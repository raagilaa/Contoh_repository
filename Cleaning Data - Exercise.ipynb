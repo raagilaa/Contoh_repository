{
 "cells": [
  {
   "cell_type": "markdown",
   "metadata": {},
   "source": [
    "# __Cleaning Data__ - ``Exercise``\n",
    "\n",
    "### 1. Import Pandas,Numpy, and Datetime Library"
   ]
  },
  {
   "cell_type": "code",
   "execution_count": 1,
   "metadata": {},
   "outputs": [],
   "source": [
    "import pandas as pd\n",
    "import numpy as np\n",
    "import datetime"
   ]
  },
  {
   "cell_type": "markdown",
   "metadata": {},
   "source": [
    "### 2. Load DOB_Job_Application_Filings_Raw.csv as dataframe to data variable then show the .head() of the dataframe"
   ]
  },
  {
   "cell_type": "code",
   "execution_count": 2,
   "metadata": {},
   "outputs": [
    {
     "data": {
      "text/html": "<div>\n<style scoped>\n    .dataframe tbody tr th:only-of-type {\n        vertical-align: middle;\n    }\n\n    .dataframe tbody tr th {\n        vertical-align: top;\n    }\n\n    .dataframe thead th {\n        text-align: right;\n    }\n</style>\n<table border=\"1\" class=\"dataframe\">\n  <thead>\n    <tr style=\"text-align: right;\">\n      <th></th>\n      <th>Job #</th>\n      <th>Doc #</th>\n      <th>Borough</th>\n      <th>House #</th>\n      <th>Street Name</th>\n      <th>Block</th>\n      <th>Lot</th>\n      <th>Bin #</th>\n      <th>Job Type</th>\n      <th>Job Status</th>\n      <th>...</th>\n      <th>SPECIAL_ACTION_STATUS</th>\n      <th>SPECIAL_ACTION_DATE</th>\n      <th>BUILDING_CLASS</th>\n      <th>JOB_NO_GOOD_COUNT</th>\n      <th>GIS_LATITUDE</th>\n      <th>GIS_LONGITUDE</th>\n      <th>GIS_COUNCIL_DISTRICT</th>\n      <th>GIS_CENSUS_TRACT</th>\n      <th>GIS_NTA_NAME</th>\n      <th>GIS_BIN</th>\n    </tr>\n  </thead>\n  <tbody>\n    <tr>\n      <th>0</th>\n      <td>420291954</td>\n      <td>1</td>\n      <td>QUEENS</td>\n      <td>65-19</td>\n      <td>PERRY AVENUE</td>\n      <td>2718.0</td>\n      <td>30.0</td>\n      <td>4060776</td>\n      <td>A2</td>\n      <td>X</td>\n      <td>...</td>\n      <td>N</td>\n      <td>NaN</td>\n      <td>C0</td>\n      <td>0</td>\n      <td>40.724636</td>\n      <td>-73.899491</td>\n      <td>30.0</td>\n      <td>517.0</td>\n      <td>Maspeth</td>\n      <td>4060776.0</td>\n    </tr>\n    <tr>\n      <th>1</th>\n      <td>220094822</td>\n      <td>2</td>\n      <td>BRONX</td>\n      <td>2100</td>\n      <td>BARTOW AVE</td>\n      <td>5141.0</td>\n      <td>810.0</td>\n      <td>2094224</td>\n      <td>A2</td>\n      <td>X</td>\n      <td>...</td>\n      <td>N</td>\n      <td>NaN</td>\n      <td>K6</td>\n      <td>0</td>\n      <td>40.869429</td>\n      <td>-73.825737</td>\n      <td>12.0</td>\n      <td>46201.0</td>\n      <td>Co-op City</td>\n      <td>2103850.0</td>\n    </tr>\n    <tr>\n      <th>2</th>\n      <td>421662604</td>\n      <td>1</td>\n      <td>QUEENS</td>\n      <td>36-12</td>\n      <td>UNION STREET</td>\n      <td>4977.0</td>\n      <td>54.0</td>\n      <td>4112356</td>\n      <td>A2</td>\n      <td>R</td>\n      <td>...</td>\n      <td>N</td>\n      <td>NaN</td>\n      <td>K2</td>\n      <td>0</td>\n      <td>40.763470</td>\n      <td>-73.828046</td>\n      <td>20.0</td>\n      <td>869.0</td>\n      <td>Flushing</td>\n      <td>4112356.0</td>\n    </tr>\n    <tr>\n      <th>3</th>\n      <td>420292481</td>\n      <td>1</td>\n      <td>QUEENS</td>\n      <td>192-01</td>\n      <td>39TH AVENUE</td>\n      <td>5316.0</td>\n      <td>57.0</td>\n      <td>4120137</td>\n      <td>A3</td>\n      <td>P</td>\n      <td>...</td>\n      <td>W</td>\n      <td>11/15/2011</td>\n      <td>B1</td>\n      <td>0</td>\n      <td>40.761908</td>\n      <td>-73.789707</td>\n      <td>19.0</td>\n      <td>1139.0</td>\n      <td>Auburndale</td>\n      <td>4120137.0</td>\n    </tr>\n    <tr>\n      <th>4</th>\n      <td>320245098</td>\n      <td>1</td>\n      <td>BROOKLYN</td>\n      <td>1124</td>\n      <td>SURF AVENUE</td>\n      <td>8696.0</td>\n      <td>37.0</td>\n      <td>3245151</td>\n      <td>A3</td>\n      <td>R</td>\n      <td>...</td>\n      <td>N</td>\n      <td>NaN</td>\n      <td>V1</td>\n      <td>0</td>\n      <td>40.575502</td>\n      <td>-73.979057</td>\n      <td>47.0</td>\n      <td>352.0</td>\n      <td>Seagate-Coney Island</td>\n      <td>3000000.0</td>\n    </tr>\n  </tbody>\n</table>\n<p>5 rows × 96 columns</p>\n</div>",
      "text/plain": "       Job #  Doc #   Borough House #   Street Name   Block    Lot    Bin #  \\\n0  420291954      1    QUEENS   65-19  PERRY AVENUE  2718.0   30.0  4060776   \n1  220094822      2     BRONX    2100    BARTOW AVE  5141.0  810.0  2094224   \n2  421662604      1    QUEENS   36-12  UNION STREET  4977.0   54.0  4112356   \n3  420292481      1    QUEENS  192-01   39TH AVENUE  5316.0   57.0  4120137   \n4  320245098      1  BROOKLYN    1124   SURF AVENUE  8696.0   37.0  3245151   \n\n  Job Type Job Status  ... SPECIAL_ACTION_STATUS SPECIAL_ACTION_DATE  \\\n0       A2          X  ...                     N                 NaN   \n1       A2          X  ...                     N                 NaN   \n2       A2          R  ...                     N                 NaN   \n3       A3          P  ...                     W          11/15/2011   \n4       A3          R  ...                     N                 NaN   \n\n  BUILDING_CLASS  JOB_NO_GOOD_COUNT GIS_LATITUDE GIS_LONGITUDE  \\\n0             C0                  0    40.724636    -73.899491   \n1             K6                  0    40.869429    -73.825737   \n2             K2                  0    40.763470    -73.828046   \n3             B1                  0    40.761908    -73.789707   \n4             V1                  0    40.575502    -73.979057   \n\n  GIS_COUNCIL_DISTRICT GIS_CENSUS_TRACT          GIS_NTA_NAME    GIS_BIN  \n0                 30.0            517.0               Maspeth  4060776.0  \n1                 12.0          46201.0            Co-op City  2103850.0  \n2                 20.0            869.0              Flushing  4112356.0  \n3                 19.0           1139.0            Auburndale  4120137.0  \n4                 47.0            352.0  Seagate-Coney Island  3000000.0  \n\n[5 rows x 96 columns]"
     },
     "execution_count": 2,
     "metadata": {},
     "output_type": "execute_result"
    }
   ],
   "source": [
    "# The data to load\n",
    "f = \"DOB_Job_Application_Filings_Raw.csv\"\n",
    "\n",
    "# Take every N-th (in this case 100th) row\n",
    "n = 10\n",
    "\n",
    "# Count the lines or use an upper bound\n",
    "num_lines = sum(1 for l in open(f))\n",
    "\n",
    "# The row indices to skip - make sure 0 is not included to keep the header!\n",
    "skip_idx = [x for x in range(1, num_lines) if x % n != 0]\n",
    "\n",
    "# Read the data\n",
    "data = pd.read_csv(f, skiprows=skip_idx)\n",
    "data.head()"
   ]
  },
  {
   "cell_type": "markdown",
   "metadata": {},
   "source": [
    "### 3. Select some of the columns from data variable and save it to data variable itself then show the .head() of the dataframe again, the .info(), and .describe() of the dataframe"
   ]
  },
  {
   "cell_type": "code",
   "execution_count": 3,
   "metadata": {},
   "outputs": [
    {
     "data": {
      "text/html": "<div>\n<style scoped>\n    .dataframe tbody tr th:only-of-type {\n        vertical-align: middle;\n    }\n\n    .dataframe tbody tr th {\n        vertical-align: top;\n    }\n\n    .dataframe thead th {\n        text-align: right;\n    }\n</style>\n<table border=\"1\" class=\"dataframe\">\n  <thead>\n    <tr style=\"text-align: right;\">\n      <th></th>\n      <th>Job #</th>\n      <th>Doc #</th>\n      <th>Borough</th>\n      <th>Applicant's First Name</th>\n      <th>Applicant's Last Name</th>\n      <th>Applicant Professional Title</th>\n      <th>Pre- Filing Date</th>\n      <th>Approved</th>\n      <th>Initial Cost</th>\n      <th>Total Est. Fee</th>\n      <th>Existing Zoning Sqft</th>\n      <th>Proposed Zoning Sqft</th>\n      <th>Enlargement SQ Footage</th>\n      <th>Street Frontage</th>\n    </tr>\n  </thead>\n  <tbody>\n    <tr>\n      <th>0</th>\n      <td>420291954</td>\n      <td>1</td>\n      <td>QUEENS</td>\n      <td>REUBEN</td>\n      <td>MILLER</td>\n      <td>RA</td>\n      <td>11/29/2010</td>\n      <td>12/08/2010</td>\n      <td>$12000.00</td>\n      <td>$136.05</td>\n      <td>0</td>\n      <td>0</td>\n      <td>0</td>\n      <td>0</td>\n    </tr>\n    <tr>\n      <th>1</th>\n      <td>220094822</td>\n      <td>2</td>\n      <td>BRONX</td>\n      <td>ALBERT</td>\n      <td>COLLADO</td>\n      <td>PE</td>\n      <td>11/30/2010</td>\n      <td>NaN</td>\n      <td>$11250.00</td>\n      <td>$212.10</td>\n      <td>0</td>\n      <td>0</td>\n      <td>0</td>\n      <td>0</td>\n    </tr>\n    <tr>\n      <th>2</th>\n      <td>421662604</td>\n      <td>1</td>\n      <td>QUEENS</td>\n      <td>YEON CHAN</td>\n      <td>LEE</td>\n      <td>PE</td>\n      <td>11/08/2018</td>\n      <td>11/14/2018</td>\n      <td>$8500.00</td>\n      <td>$286.80</td>\n      <td>0</td>\n      <td>0</td>\n      <td>0</td>\n      <td>0</td>\n    </tr>\n    <tr>\n      <th>3</th>\n      <td>420292481</td>\n      <td>1</td>\n      <td>QUEENS</td>\n      <td>PAUL</td>\n      <td>MARINO</td>\n      <td>PE</td>\n      <td>11/30/2010</td>\n      <td>11/30/2010</td>\n      <td>$0.00</td>\n      <td>$130.00</td>\n      <td>0</td>\n      <td>0</td>\n      <td>0</td>\n      <td>0</td>\n    </tr>\n    <tr>\n      <th>4</th>\n      <td>320245098</td>\n      <td>1</td>\n      <td>BROOKLYN</td>\n      <td>CHRISTOPHER</td>\n      <td>VITOLANO</td>\n      <td>PE</td>\n      <td>12/01/2010</td>\n      <td>03/04/2011</td>\n      <td>$0.00</td>\n      <td>$1944.00</td>\n      <td>0</td>\n      <td>0</td>\n      <td>0</td>\n      <td>243</td>\n    </tr>\n  </tbody>\n</table>\n</div>",
      "text/plain": "       Job #  Doc #   Borough Applicant's First Name Applicant's Last Name  \\\n0  420291954      1    QUEENS                 REUBEN                MILLER   \n1  220094822      2     BRONX                 ALBERT               COLLADO   \n2  421662604      1    QUEENS              YEON CHAN                   LEE   \n3  420292481      1    QUEENS                   PAUL                MARINO   \n4  320245098      1  BROOKLYN            CHRISTOPHER              VITOLANO   \n\n  Applicant Professional Title Pre- Filing Date    Approved Initial Cost  \\\n0                           RA       11/29/2010  12/08/2010    $12000.00   \n1                           PE       11/30/2010         NaN    $11250.00   \n2                           PE       11/08/2018  11/14/2018     $8500.00   \n3                           PE       11/30/2010  11/30/2010        $0.00   \n4                           PE       12/01/2010  03/04/2011        $0.00   \n\n  Total Est. Fee  Existing Zoning Sqft  Proposed Zoning Sqft  \\\n0        $136.05                     0                     0   \n1        $212.10                     0                     0   \n2        $286.80                     0                     0   \n3        $130.00                     0                     0   \n4       $1944.00                     0                     0   \n\n   Enlargement SQ Footage  Street Frontage  \n0                       0                0  \n1                       0                0  \n2                       0                0  \n3                       0                0  \n4                       0              243  "
     },
     "execution_count": 3,
     "metadata": {},
     "output_type": "execute_result"
    }
   ],
   "source": [
    "# code here!\n",
    "# pd.set_option('display.max_columns', None)\n",
    "column = [\"Job #\",\"Doc #\",\"Borough\",\"Applicant's First Name\",\"Applicant's Last Name\",\"Applicant Professional Title\",\"Pre- Filing Date\",\"Approved\",\"Initial Cost\",\"Total Est. Fee\",\"Existing Zoning Sqft\",\"Proposed Zoning Sqft\",\"Enlargement SQ Footage\",\"Street Frontage\"]\n",
    "\n",
    "data = data.loc[:,column]\n",
    "data.head()"
   ]
  },
  {
   "cell_type": "code",
   "execution_count": 3,
   "metadata": {},
   "outputs": [
    {
     "data": {
      "text/html": [
       "<div>\n",
       "<style scoped>\n",
       "    .dataframe tbody tr th:only-of-type {\n",
       "        vertical-align: middle;\n",
       "    }\n",
       "\n",
       "    .dataframe tbody tr th {\n",
       "        vertical-align: top;\n",
       "    }\n",
       "\n",
       "    .dataframe thead th {\n",
       "        text-align: right;\n",
       "    }\n",
       "</style>\n",
       "<table border=\"1\" class=\"dataframe\">\n",
       "  <thead>\n",
       "    <tr style=\"text-align: right;\">\n",
       "      <th></th>\n",
       "      <th>Job #</th>\n",
       "      <th>Doc #</th>\n",
       "      <th>Borough</th>\n",
       "      <th>Applicant's First Name</th>\n",
       "      <th>Applicant's Last Name</th>\n",
       "      <th>Applicant Professional Title</th>\n",
       "      <th>Pre- Filing Date</th>\n",
       "      <th>Approved</th>\n",
       "      <th>Initial Cost</th>\n",
       "      <th>Total Est. Fee</th>\n",
       "      <th>Existing Zoning Sqft</th>\n",
       "      <th>Proposed Zoning Sqft</th>\n",
       "      <th>Enlargement SQ Footage</th>\n",
       "      <th>Street Frontage</th>\n",
       "    </tr>\n",
       "  </thead>\n",
       "  <tbody>\n",
       "    <tr>\n",
       "      <th>0</th>\n",
       "      <td>420291954</td>\n",
       "      <td>1</td>\n",
       "      <td>QUEENS</td>\n",
       "      <td>REUBEN</td>\n",
       "      <td>MILLER</td>\n",
       "      <td>RA</td>\n",
       "      <td>11/29/2010</td>\n",
       "      <td>12/08/2010</td>\n",
       "      <td>$12000.00</td>\n",
       "      <td>$136.05</td>\n",
       "      <td>0</td>\n",
       "      <td>0</td>\n",
       "      <td>0</td>\n",
       "      <td>0</td>\n",
       "    </tr>\n",
       "    <tr>\n",
       "      <th>1</th>\n",
       "      <td>220094822</td>\n",
       "      <td>2</td>\n",
       "      <td>BRONX</td>\n",
       "      <td>ALBERT</td>\n",
       "      <td>COLLADO</td>\n",
       "      <td>PE</td>\n",
       "      <td>11/30/2010</td>\n",
       "      <td>NaN</td>\n",
       "      <td>$11250.00</td>\n",
       "      <td>$212.10</td>\n",
       "      <td>0</td>\n",
       "      <td>0</td>\n",
       "      <td>0</td>\n",
       "      <td>0</td>\n",
       "    </tr>\n",
       "    <tr>\n",
       "      <th>2</th>\n",
       "      <td>421662604</td>\n",
       "      <td>1</td>\n",
       "      <td>QUEENS</td>\n",
       "      <td>YEON CHAN</td>\n",
       "      <td>LEE</td>\n",
       "      <td>PE</td>\n",
       "      <td>11/08/2018</td>\n",
       "      <td>11/14/2018</td>\n",
       "      <td>$8500.00</td>\n",
       "      <td>$286.80</td>\n",
       "      <td>0</td>\n",
       "      <td>0</td>\n",
       "      <td>0</td>\n",
       "      <td>0</td>\n",
       "    </tr>\n",
       "    <tr>\n",
       "      <th>3</th>\n",
       "      <td>420292481</td>\n",
       "      <td>1</td>\n",
       "      <td>QUEENS</td>\n",
       "      <td>PAUL</td>\n",
       "      <td>MARINO</td>\n",
       "      <td>PE</td>\n",
       "      <td>11/30/2010</td>\n",
       "      <td>11/30/2010</td>\n",
       "      <td>$0.00</td>\n",
       "      <td>$130.00</td>\n",
       "      <td>0</td>\n",
       "      <td>0</td>\n",
       "      <td>0</td>\n",
       "      <td>0</td>\n",
       "    </tr>\n",
       "    <tr>\n",
       "      <th>4</th>\n",
       "      <td>320245098</td>\n",
       "      <td>1</td>\n",
       "      <td>BROOKLYN</td>\n",
       "      <td>CHRISTOPHER</td>\n",
       "      <td>VITOLANO</td>\n",
       "      <td>PE</td>\n",
       "      <td>12/01/2010</td>\n",
       "      <td>03/04/2011</td>\n",
       "      <td>$0.00</td>\n",
       "      <td>$1944.00</td>\n",
       "      <td>0</td>\n",
       "      <td>0</td>\n",
       "      <td>0</td>\n",
       "      <td>243</td>\n",
       "    </tr>\n",
       "  </tbody>\n",
       "</table>\n",
       "</div>"
      ],
      "text/plain": [
       "       Job #  Doc #   Borough Applicant's First Name Applicant's Last Name  \\\n",
       "0  420291954      1    QUEENS                 REUBEN                MILLER   \n",
       "1  220094822      2     BRONX                 ALBERT               COLLADO   \n",
       "2  421662604      1    QUEENS              YEON CHAN                   LEE   \n",
       "3  420292481      1    QUEENS                   PAUL                MARINO   \n",
       "4  320245098      1  BROOKLYN            CHRISTOPHER              VITOLANO   \n",
       "\n",
       "  Applicant Professional Title Pre- Filing Date    Approved Initial Cost  \\\n",
       "0                           RA       11/29/2010  12/08/2010    $12000.00   \n",
       "1                           PE       11/30/2010         NaN    $11250.00   \n",
       "2                           PE       11/08/2018  11/14/2018     $8500.00   \n",
       "3                           PE       11/30/2010  11/30/2010        $0.00   \n",
       "4                           PE       12/01/2010  03/04/2011        $0.00   \n",
       "\n",
       "  Total Est. Fee  Existing Zoning Sqft  Proposed Zoning Sqft  \\\n",
       "0        $136.05                     0                     0   \n",
       "1        $212.10                     0                     0   \n",
       "2        $286.80                     0                     0   \n",
       "3        $130.00                     0                     0   \n",
       "4       $1944.00                     0                     0   \n",
       "\n",
       "   Enlargement SQ Footage  Street Frontage  \n",
       "0                       0                0  \n",
       "1                       0                0  \n",
       "2                       0                0  \n",
       "3                       0                0  \n",
       "4                       0              243  "
      ]
     },
     "execution_count": 3,
     "metadata": {},
     "output_type": "execute_result"
    }
   ],
   "source": []
  },
  {
   "cell_type": "code",
   "execution_count": 4,
   "metadata": {},
   "outputs": [
    {
     "name": "stdout",
     "output_type": "stream",
     "text": "<class 'pandas.core.frame.DataFrame'>\nRangeIndex: 13810 entries, 0 to 13809\nData columns (total 14 columns):\n #   Column                        Non-Null Count  Dtype \n---  ------                        --------------  ----- \n 0   Job #                         13810 non-null  int64 \n 1   Doc #                         13810 non-null  int64 \n 2   Borough                       13810 non-null  object\n 3   Applicant's First Name        13810 non-null  object\n 4   Applicant's Last Name         13810 non-null  object\n 5   Applicant Professional Title  13809 non-null  object\n 6   Pre- Filing Date              13810 non-null  object\n 7   Approved                      11267 non-null  object\n 8   Initial Cost                  13810 non-null  object\n 9   Total Est. Fee                13810 non-null  object\n 10  Existing Zoning Sqft          13810 non-null  int64 \n 11  Proposed Zoning Sqft          13810 non-null  int64 \n 12  Enlargement SQ Footage        13810 non-null  int64 \n 13  Street Frontage               13810 non-null  int64 \ndtypes: int64(6), object(8)\nmemory usage: 1.5+ MB\n"
    }
   ],
   "source": [
    "# code here!\n",
    "data.info()"
   ]
  },
  {
   "cell_type": "code",
   "execution_count": 4,
   "metadata": {},
   "outputs": [
    {
     "name": "stdout",
     "output_type": "stream",
     "text": [
      "<class 'pandas.core.frame.DataFrame'>\n",
      "RangeIndex: 13810 entries, 0 to 13809\n",
      "Data columns (total 14 columns):\n",
      "Job #                           13810 non-null int64\n",
      "Doc #                           13810 non-null int64\n",
      "Borough                         13810 non-null object\n",
      "Applicant's First Name          13810 non-null object\n",
      "Applicant's Last Name           13810 non-null object\n",
      "Applicant Professional Title    13809 non-null object\n",
      "Pre- Filing Date                13810 non-null object\n",
      "Approved                        11267 non-null object\n",
      "Initial Cost                    13810 non-null object\n",
      "Total Est. Fee                  13810 non-null object\n",
      "Existing Zoning Sqft            13810 non-null int64\n",
      "Proposed Zoning Sqft            13810 non-null int64\n",
      "Enlargement SQ Footage          13810 non-null int64\n",
      "Street Frontage                 13810 non-null int64\n",
      "dtypes: int64(6), object(8)\n",
      "memory usage: 1.5+ MB\n"
     ]
    }
   ],
   "source": []
  },
  {
   "cell_type": "code",
   "execution_count": 5,
   "metadata": {},
   "outputs": [
    {
     "data": {
      "text/html": "<div>\n<style scoped>\n    .dataframe tbody tr th:only-of-type {\n        vertical-align: middle;\n    }\n\n    .dataframe tbody tr th {\n        vertical-align: top;\n    }\n\n    .dataframe thead th {\n        text-align: right;\n    }\n</style>\n<table border=\"1\" class=\"dataframe\">\n  <thead>\n    <tr style=\"text-align: right;\">\n      <th></th>\n      <th>Job #</th>\n      <th>Doc #</th>\n      <th>Existing Zoning Sqft</th>\n      <th>Proposed Zoning Sqft</th>\n      <th>Enlargement SQ Footage</th>\n      <th>Street Frontage</th>\n    </tr>\n  </thead>\n  <tbody>\n    <tr>\n      <th>count</th>\n      <td>1.381000e+04</td>\n      <td>13810.000000</td>\n      <td>1.381000e+04</td>\n      <td>1.381000e+04</td>\n      <td>13810.000000</td>\n      <td>13810.000000</td>\n    </tr>\n    <tr>\n      <th>mean</th>\n      <td>2.509774e+08</td>\n      <td>1.148371</td>\n      <td>1.341891e+03</td>\n      <td>2.294220e+03</td>\n      <td>48.200434</td>\n      <td>4.053440</td>\n    </tr>\n    <tr>\n      <th>std</th>\n      <td>1.358115e+08</td>\n      <td>0.501644</td>\n      <td>4.504786e+04</td>\n      <td>5.726133e+04</td>\n      <td>508.286599</td>\n      <td>27.759045</td>\n    </tr>\n    <tr>\n      <th>min</th>\n      <td>1.020206e+08</td>\n      <td>1.000000</td>\n      <td>0.000000e+00</td>\n      <td>0.000000e+00</td>\n      <td>0.000000</td>\n      <td>0.000000</td>\n    </tr>\n    <tr>\n      <th>25%</th>\n      <td>1.209957e+08</td>\n      <td>1.000000</td>\n      <td>0.000000e+00</td>\n      <td>0.000000e+00</td>\n      <td>0.000000</td>\n      <td>0.000000</td>\n    </tr>\n    <tr>\n      <th>50%</th>\n      <td>2.205195e+08</td>\n      <td>1.000000</td>\n      <td>0.000000e+00</td>\n      <td>0.000000e+00</td>\n      <td>0.000000</td>\n      <td>0.000000</td>\n    </tr>\n    <tr>\n      <th>75%</th>\n      <td>4.011669e+08</td>\n      <td>1.000000</td>\n      <td>0.000000e+00</td>\n      <td>0.000000e+00</td>\n      <td>0.000000</td>\n      <td>0.000000</td>\n    </tr>\n    <tr>\n      <th>max</th>\n      <td>5.401627e+08</td>\n      <td>9.000000</td>\n      <td>3.583167e+06</td>\n      <td>3.583167e+06</td>\n      <td>24047.000000</td>\n      <td>791.000000</td>\n    </tr>\n  </tbody>\n</table>\n</div>",
      "text/plain": "              Job #         Doc #  Existing Zoning Sqft  Proposed Zoning Sqft  \\\ncount  1.381000e+04  13810.000000          1.381000e+04          1.381000e+04   \nmean   2.509774e+08      1.148371          1.341891e+03          2.294220e+03   \nstd    1.358115e+08      0.501644          4.504786e+04          5.726133e+04   \nmin    1.020206e+08      1.000000          0.000000e+00          0.000000e+00   \n25%    1.209957e+08      1.000000          0.000000e+00          0.000000e+00   \n50%    2.205195e+08      1.000000          0.000000e+00          0.000000e+00   \n75%    4.011669e+08      1.000000          0.000000e+00          0.000000e+00   \nmax    5.401627e+08      9.000000          3.583167e+06          3.583167e+06   \n\n       Enlargement SQ Footage  Street Frontage  \ncount            13810.000000     13810.000000  \nmean                48.200434         4.053440  \nstd                508.286599        27.759045  \nmin                  0.000000         0.000000  \n25%                  0.000000         0.000000  \n50%                  0.000000         0.000000  \n75%                  0.000000         0.000000  \nmax              24047.000000       791.000000  "
     },
     "execution_count": 5,
     "metadata": {},
     "output_type": "execute_result"
    }
   ],
   "source": [
    "# code here!\n",
    "data.describe()"
   ]
  },
  {
   "cell_type": "code",
   "execution_count": 5,
   "metadata": {},
   "outputs": [
    {
     "data": {
      "text/html": [
       "<div>\n",
       "<style scoped>\n",
       "    .dataframe tbody tr th:only-of-type {\n",
       "        vertical-align: middle;\n",
       "    }\n",
       "\n",
       "    .dataframe tbody tr th {\n",
       "        vertical-align: top;\n",
       "    }\n",
       "\n",
       "    .dataframe thead th {\n",
       "        text-align: right;\n",
       "    }\n",
       "</style>\n",
       "<table border=\"1\" class=\"dataframe\">\n",
       "  <thead>\n",
       "    <tr style=\"text-align: right;\">\n",
       "      <th></th>\n",
       "      <th>Job #</th>\n",
       "      <th>Doc #</th>\n",
       "      <th>Existing Zoning Sqft</th>\n",
       "      <th>Proposed Zoning Sqft</th>\n",
       "      <th>Enlargement SQ Footage</th>\n",
       "      <th>Street Frontage</th>\n",
       "    </tr>\n",
       "  </thead>\n",
       "  <tbody>\n",
       "    <tr>\n",
       "      <th>count</th>\n",
       "      <td>1.381000e+04</td>\n",
       "      <td>13810.000000</td>\n",
       "      <td>1.381000e+04</td>\n",
       "      <td>1.381000e+04</td>\n",
       "      <td>13810.000000</td>\n",
       "      <td>13810.000000</td>\n",
       "    </tr>\n",
       "    <tr>\n",
       "      <th>mean</th>\n",
       "      <td>2.509774e+08</td>\n",
       "      <td>1.148371</td>\n",
       "      <td>1.341891e+03</td>\n",
       "      <td>2.294220e+03</td>\n",
       "      <td>48.200434</td>\n",
       "      <td>4.053440</td>\n",
       "    </tr>\n",
       "    <tr>\n",
       "      <th>std</th>\n",
       "      <td>1.358115e+08</td>\n",
       "      <td>0.501644</td>\n",
       "      <td>4.504786e+04</td>\n",
       "      <td>5.726133e+04</td>\n",
       "      <td>508.286599</td>\n",
       "      <td>27.759045</td>\n",
       "    </tr>\n",
       "    <tr>\n",
       "      <th>min</th>\n",
       "      <td>1.020206e+08</td>\n",
       "      <td>1.000000</td>\n",
       "      <td>0.000000e+00</td>\n",
       "      <td>0.000000e+00</td>\n",
       "      <td>0.000000</td>\n",
       "      <td>0.000000</td>\n",
       "    </tr>\n",
       "    <tr>\n",
       "      <th>25%</th>\n",
       "      <td>1.209957e+08</td>\n",
       "      <td>1.000000</td>\n",
       "      <td>0.000000e+00</td>\n",
       "      <td>0.000000e+00</td>\n",
       "      <td>0.000000</td>\n",
       "      <td>0.000000</td>\n",
       "    </tr>\n",
       "    <tr>\n",
       "      <th>50%</th>\n",
       "      <td>2.205195e+08</td>\n",
       "      <td>1.000000</td>\n",
       "      <td>0.000000e+00</td>\n",
       "      <td>0.000000e+00</td>\n",
       "      <td>0.000000</td>\n",
       "      <td>0.000000</td>\n",
       "    </tr>\n",
       "    <tr>\n",
       "      <th>75%</th>\n",
       "      <td>4.011669e+08</td>\n",
       "      <td>1.000000</td>\n",
       "      <td>0.000000e+00</td>\n",
       "      <td>0.000000e+00</td>\n",
       "      <td>0.000000</td>\n",
       "      <td>0.000000</td>\n",
       "    </tr>\n",
       "    <tr>\n",
       "      <th>max</th>\n",
       "      <td>5.401627e+08</td>\n",
       "      <td>9.000000</td>\n",
       "      <td>3.583167e+06</td>\n",
       "      <td>3.583167e+06</td>\n",
       "      <td>24047.000000</td>\n",
       "      <td>791.000000</td>\n",
       "    </tr>\n",
       "  </tbody>\n",
       "</table>\n",
       "</div>"
      ],
      "text/plain": [
       "              Job #         Doc #  Existing Zoning Sqft  Proposed Zoning Sqft  \\\n",
       "count  1.381000e+04  13810.000000          1.381000e+04          1.381000e+04   \n",
       "mean   2.509774e+08      1.148371          1.341891e+03          2.294220e+03   \n",
       "std    1.358115e+08      0.501644          4.504786e+04          5.726133e+04   \n",
       "min    1.020206e+08      1.000000          0.000000e+00          0.000000e+00   \n",
       "25%    1.209957e+08      1.000000          0.000000e+00          0.000000e+00   \n",
       "50%    2.205195e+08      1.000000          0.000000e+00          0.000000e+00   \n",
       "75%    4.011669e+08      1.000000          0.000000e+00          0.000000e+00   \n",
       "max    5.401627e+08      9.000000          3.583167e+06          3.583167e+06   \n",
       "\n",
       "       Enlargement SQ Footage  Street Frontage  \n",
       "count            13810.000000     13810.000000  \n",
       "mean                48.200434         4.053440  \n",
       "std                508.286599        27.759045  \n",
       "min                  0.000000         0.000000  \n",
       "25%                  0.000000         0.000000  \n",
       "50%                  0.000000         0.000000  \n",
       "75%                  0.000000         0.000000  \n",
       "max              24047.000000       791.000000  "
      ]
     },
     "execution_count": 5,
     "metadata": {},
     "output_type": "execute_result"
    }
   ],
   "source": []
  },
  {
   "cell_type": "markdown",
   "metadata": {},
   "source": [
    "### 4. Show Borough Value Counts"
   ]
  },
  {
   "cell_type": "code",
   "execution_count": 6,
   "metadata": {},
   "outputs": [
    {
     "data": {
      "text/plain": "MANHATTAN        6057\nBROOKLYN         3138\nQUEENS           2733\nBRONX            1093\nSTATEN ISLAND     789\nName: Borough, dtype: int64"
     },
     "execution_count": 6,
     "metadata": {},
     "output_type": "execute_result"
    }
   ],
   "source": [
    "# code here!\n",
    "data[\"Borough\"].value_counts()"
   ]
  },
  {
   "cell_type": "code",
   "execution_count": 6,
   "metadata": {},
   "outputs": [
    {
     "data": {
      "text/plain": [
       "MANHATTAN        6057\n",
       "BROOKLYN         3138\n",
       "QUEENS           2733\n",
       "BRONX            1093\n",
       "STATEN ISLAND     789\n",
       "Name: Borough, dtype: int64"
      ]
     },
     "execution_count": 6,
     "metadata": {},
     "output_type": "execute_result"
    }
   ],
   "source": []
  },
  {
   "cell_type": "markdown",
   "metadata": {},
   "source": [
    "### 5. Check if there is data in Initial Cost and Total Est. Fee that dont have $ Symbol (show value_counts of the columns after filtering)"
   ]
  },
  {
   "cell_type": "code",
   "execution_count": 7,
   "metadata": {},
   "outputs": [
    {
     "data": {
      "text/plain": "0         136.05\n1         212.10\n2         286.80\n3         130.00\n4        1944.00\n          ...   \n13805    2021.77\n13806     100.00\n13807     335.70\n13808     100.00\n13809     315.10\nName: Total Est. Fee, Length: 13810, dtype: object"
     },
     "execution_count": 7,
     "metadata": {},
     "output_type": "execute_result"
    }
   ],
   "source": [
    "# code here!\n",
    "data[\"Total Est. Fee\"]= data[\"Total Est. Fee\"].str.replace(\"$\",\"\")\n",
    "data[\"Total Est. Fee\"]\n"
   ]
  },
  {
   "cell_type": "code",
   "execution_count": 8,
   "metadata": {},
   "outputs": [
    {
     "data": {
      "text/plain": "0        12000.00\n1        11250.00\n2         8500.00\n3            0.00\n4            0.00\n           ...   \n13805        0.00\n13806     2000.00\n13807    23600.00\n13808     2000.00\n13809    22000.00\nName: Initial Cost, Length: 13810, dtype: object"
     },
     "execution_count": 8,
     "metadata": {},
     "output_type": "execute_result"
    }
   ],
   "source": [
    "data[\"Initial Cost\"]= data[\"Initial Cost\"].str.replace(\"$\",\"\")\n",
    "data[\"Initial Cost\"]"
   ]
  },
  {
   "cell_type": "code",
   "execution_count": 9,
   "metadata": {},
   "outputs": [
    {
     "data": {
      "text/html": "<div>\n<style scoped>\n    .dataframe tbody tr th:only-of-type {\n        vertical-align: middle;\n    }\n\n    .dataframe tbody tr th {\n        vertical-align: top;\n    }\n\n    .dataframe thead th {\n        text-align: right;\n    }\n</style>\n<table border=\"1\" class=\"dataframe\">\n  <thead>\n    <tr style=\"text-align: right;\">\n      <th></th>\n      <th>Job #</th>\n      <th>Doc #</th>\n      <th>Borough</th>\n      <th>Applicant's First Name</th>\n      <th>Applicant's Last Name</th>\n      <th>Applicant Professional Title</th>\n      <th>Pre- Filing Date</th>\n      <th>Approved</th>\n      <th>Initial Cost</th>\n      <th>Total Est. Fee</th>\n      <th>Existing Zoning Sqft</th>\n      <th>Proposed Zoning Sqft</th>\n      <th>Enlargement SQ Footage</th>\n      <th>Street Frontage</th>\n    </tr>\n  </thead>\n  <tbody>\n    <tr>\n      <th>0</th>\n      <td>420291954</td>\n      <td>1</td>\n      <td>QUEENS</td>\n      <td>REUBEN</td>\n      <td>MILLER</td>\n      <td>RA</td>\n      <td>11/29/2010</td>\n      <td>12/08/2010</td>\n      <td>12000.00</td>\n      <td>136.05</td>\n      <td>0</td>\n      <td>0</td>\n      <td>0</td>\n      <td>0</td>\n    </tr>\n    <tr>\n      <th>1</th>\n      <td>220094822</td>\n      <td>2</td>\n      <td>BRONX</td>\n      <td>ALBERT</td>\n      <td>COLLADO</td>\n      <td>PE</td>\n      <td>11/30/2010</td>\n      <td>NaN</td>\n      <td>11250.00</td>\n      <td>212.10</td>\n      <td>0</td>\n      <td>0</td>\n      <td>0</td>\n      <td>0</td>\n    </tr>\n    <tr>\n      <th>2</th>\n      <td>421662604</td>\n      <td>1</td>\n      <td>QUEENS</td>\n      <td>YEON CHAN</td>\n      <td>LEE</td>\n      <td>PE</td>\n      <td>11/08/2018</td>\n      <td>11/14/2018</td>\n      <td>8500.00</td>\n      <td>286.80</td>\n      <td>0</td>\n      <td>0</td>\n      <td>0</td>\n      <td>0</td>\n    </tr>\n    <tr>\n      <th>3</th>\n      <td>420292481</td>\n      <td>1</td>\n      <td>QUEENS</td>\n      <td>PAUL</td>\n      <td>MARINO</td>\n      <td>PE</td>\n      <td>11/30/2010</td>\n      <td>11/30/2010</td>\n      <td>0.00</td>\n      <td>130.00</td>\n      <td>0</td>\n      <td>0</td>\n      <td>0</td>\n      <td>0</td>\n    </tr>\n    <tr>\n      <th>4</th>\n      <td>320245098</td>\n      <td>1</td>\n      <td>BROOKLYN</td>\n      <td>CHRISTOPHER</td>\n      <td>VITOLANO</td>\n      <td>PE</td>\n      <td>12/01/2010</td>\n      <td>03/04/2011</td>\n      <td>0.00</td>\n      <td>1944.00</td>\n      <td>0</td>\n      <td>0</td>\n      <td>0</td>\n      <td>243</td>\n    </tr>\n    <tr>\n      <th>...</th>\n      <td>...</td>\n      <td>...</td>\n      <td>...</td>\n      <td>...</td>\n      <td>...</td>\n      <td>...</td>\n      <td>...</td>\n      <td>...</td>\n      <td>...</td>\n      <td>...</td>\n      <td>...</td>\n      <td>...</td>\n      <td>...</td>\n      <td>...</td>\n    </tr>\n    <tr>\n      <th>13805</th>\n      <td>302026821</td>\n      <td>1</td>\n      <td>BROOKLYN</td>\n      <td>ANDREW</td>\n      <td>KNOX</td>\n      <td>RA</td>\n      <td>11/01/2005</td>\n      <td>NaN</td>\n      <td>0.00</td>\n      <td>2021.77</td>\n      <td>0</td>\n      <td>0</td>\n      <td>0</td>\n      <td>0</td>\n    </tr>\n    <tr>\n      <th>13806</th>\n      <td>302030503</td>\n      <td>1</td>\n      <td>BROOKLYN</td>\n      <td>SCOTT</td>\n      <td>SCHNALL</td>\n      <td>PE</td>\n      <td>10/31/2005</td>\n      <td>11/15/2005</td>\n      <td>2000.00</td>\n      <td>100.00</td>\n      <td>0</td>\n      <td>0</td>\n      <td>0</td>\n      <td>0</td>\n    </tr>\n    <tr>\n      <th>13807</th>\n      <td>302033608</td>\n      <td>1</td>\n      <td>BROOKLYN</td>\n      <td>GUY</td>\n      <td>ROMAIN</td>\n      <td>RA</td>\n      <td>11/02/2005</td>\n      <td>11/07/2005</td>\n      <td>23600.00</td>\n      <td>335.70</td>\n      <td>0</td>\n      <td>0</td>\n      <td>0</td>\n      <td>0</td>\n    </tr>\n    <tr>\n      <th>13808</th>\n      <td>302037739</td>\n      <td>1</td>\n      <td>BROOKLYN</td>\n      <td>GREGORY</td>\n      <td>PEROTTO</td>\n      <td>PE</td>\n      <td>11/16/2005</td>\n      <td>11/16/2005</td>\n      <td>2000.00</td>\n      <td>100.00</td>\n      <td>0</td>\n      <td>0</td>\n      <td>0</td>\n      <td>0</td>\n    </tr>\n    <tr>\n      <th>13809</th>\n      <td>302040967</td>\n      <td>1</td>\n      <td>BROOKLYN</td>\n      <td>Paul</td>\n      <td>Millman</td>\n      <td>PE</td>\n      <td>11/21/2005</td>\n      <td>11/22/2005</td>\n      <td>22000.00</td>\n      <td>315.10</td>\n      <td>0</td>\n      <td>0</td>\n      <td>0</td>\n      <td>0</td>\n    </tr>\n  </tbody>\n</table>\n<p>13810 rows × 14 columns</p>\n</div>",
      "text/plain": "           Job #  Doc #   Borough Applicant's First Name  \\\n0      420291954      1    QUEENS                 REUBEN   \n1      220094822      2     BRONX                 ALBERT   \n2      421662604      1    QUEENS              YEON CHAN   \n3      420292481      1    QUEENS                   PAUL   \n4      320245098      1  BROOKLYN            CHRISTOPHER   \n...          ...    ...       ...                    ...   \n13805  302026821      1  BROOKLYN                 ANDREW   \n13806  302030503      1  BROOKLYN                  SCOTT   \n13807  302033608      1  BROOKLYN                    GUY   \n13808  302037739      1  BROOKLYN                GREGORY   \n13809  302040967      1  BROOKLYN                   Paul   \n\n      Applicant's Last Name Applicant Professional Title Pre- Filing Date  \\\n0                    MILLER                           RA       11/29/2010   \n1                   COLLADO                           PE       11/30/2010   \n2                       LEE                           PE       11/08/2018   \n3                    MARINO                           PE       11/30/2010   \n4                  VITOLANO                           PE       12/01/2010   \n...                     ...                          ...              ...   \n13805                  KNOX                           RA       11/01/2005   \n13806               SCHNALL                           PE       10/31/2005   \n13807                ROMAIN                           RA       11/02/2005   \n13808               PEROTTO                           PE       11/16/2005   \n13809               Millman                           PE       11/21/2005   \n\n         Approved Initial Cost Total Est. Fee  Existing Zoning Sqft  \\\n0      12/08/2010     12000.00         136.05                     0   \n1             NaN     11250.00         212.10                     0   \n2      11/14/2018      8500.00         286.80                     0   \n3      11/30/2010         0.00         130.00                     0   \n4      03/04/2011         0.00        1944.00                     0   \n...           ...          ...            ...                   ...   \n13805         NaN         0.00        2021.77                     0   \n13806  11/15/2005      2000.00         100.00                     0   \n13807  11/07/2005     23600.00         335.70                     0   \n13808  11/16/2005      2000.00         100.00                     0   \n13809  11/22/2005     22000.00         315.10                     0   \n\n       Proposed Zoning Sqft  Enlargement SQ Footage  Street Frontage  \n0                         0                       0                0  \n1                         0                       0                0  \n2                         0                       0                0  \n3                         0                       0                0  \n4                         0                       0              243  \n...                     ...                     ...              ...  \n13805                     0                       0                0  \n13806                     0                       0                0  \n13807                     0                       0                0  \n13808                     0                       0                0  \n13809                     0                       0                0  \n\n[13810 rows x 14 columns]"
     },
     "execution_count": 9,
     "metadata": {},
     "output_type": "execute_result"
    }
   ],
   "source": [
    "# code here!\n",
    "data"
   ]
  },
  {
   "cell_type": "code",
   "execution_count": 8,
   "metadata": {},
   "outputs": [
    {
     "data": {
      "text/plain": [
       "Series([], Name: Total Est. Fee, dtype: int64)"
      ]
     },
     "execution_count": 8,
     "metadata": {},
     "output_type": "execute_result"
    }
   ],
   "source": []
  },
  {
   "cell_type": "markdown",
   "metadata": {},
   "source": [
    "### 6. Remove $ Symbol from Initial Cost and Total Est. Fee data, and convert the columns dtype to float. And then convert Pre- Filing Date and Approved dtype to datetime. And last convert the Borough column dtype to category."
   ]
  },
  {
   "cell_type": "code",
   "execution_count": 10,
   "metadata": {},
   "outputs": [
    {
     "name": "stdout",
     "output_type": "stream",
     "text": "<class 'pandas.core.frame.DataFrame'>\nRangeIndex: 13810 entries, 0 to 13809\nData columns (total 14 columns):\n #   Column                        Non-Null Count  Dtype         \n---  ------                        --------------  -----         \n 0   Job #                         13810 non-null  int64         \n 1   Doc #                         13810 non-null  int64         \n 2   Borough                       13810 non-null  category      \n 3   Applicant's First Name        13810 non-null  object        \n 4   Applicant's Last Name         13810 non-null  object        \n 5   Applicant Professional Title  13809 non-null  object        \n 6   Pre- Filing Date              13810 non-null  datetime64[ns]\n 7   Approved                      11267 non-null  object        \n 8   Initial Cost                  13810 non-null  float64       \n 9   Total Est. Fee                13810 non-null  float64       \n 10  Existing Zoning Sqft          13810 non-null  int64         \n 11  Proposed Zoning Sqft          13810 non-null  int64         \n 12  Enlargement SQ Footage        13810 non-null  int64         \n 13  Street Frontage               13810 non-null  int64         \ndtypes: category(1), datetime64[ns](1), float64(2), int64(6), object(4)\nmemory usage: 1.4+ MB\n"
    }
   ],
   "source": [
    "# code here!\n",
    "data[\"Initial Cost\"]= data[\"Initial Cost\"].astype(float)\n",
    "data[\"Total Est. Fee\"]= data[\"Total Est. Fee\"].astype(float)\n",
    "data[\"Pre- Filing Date\"] = pd.to_datetime(data[\"Pre- Filing Date\"])\n",
    "data[\"Borough\"] = data[\"Borough\"].astype(\"category\")\n",
    "data.info()"
   ]
  },
  {
   "cell_type": "code",
   "execution_count": 9,
   "metadata": {},
   "outputs": [],
   "source": []
  },
  {
   "cell_type": "markdown",
   "metadata": {},
   "source": [
    "### 7. Show the .head() and .info() and .describe() of the dataframe again"
   ]
  },
  {
   "cell_type": "code",
   "execution_count": 11,
   "metadata": {},
   "outputs": [
    {
     "data": {
      "text/html": "<div>\n<style scoped>\n    .dataframe tbody tr th:only-of-type {\n        vertical-align: middle;\n    }\n\n    .dataframe tbody tr th {\n        vertical-align: top;\n    }\n\n    .dataframe thead th {\n        text-align: right;\n    }\n</style>\n<table border=\"1\" class=\"dataframe\">\n  <thead>\n    <tr style=\"text-align: right;\">\n      <th></th>\n      <th>Job #</th>\n      <th>Doc #</th>\n      <th>Borough</th>\n      <th>Applicant's First Name</th>\n      <th>Applicant's Last Name</th>\n      <th>Applicant Professional Title</th>\n      <th>Pre- Filing Date</th>\n      <th>Approved</th>\n      <th>Initial Cost</th>\n      <th>Total Est. Fee</th>\n      <th>Existing Zoning Sqft</th>\n      <th>Proposed Zoning Sqft</th>\n      <th>Enlargement SQ Footage</th>\n      <th>Street Frontage</th>\n    </tr>\n  </thead>\n  <tbody>\n    <tr>\n      <th>0</th>\n      <td>420291954</td>\n      <td>1</td>\n      <td>QUEENS</td>\n      <td>REUBEN</td>\n      <td>MILLER</td>\n      <td>RA</td>\n      <td>2010-11-29</td>\n      <td>12/08/2010</td>\n      <td>12000.0</td>\n      <td>136.05</td>\n      <td>0</td>\n      <td>0</td>\n      <td>0</td>\n      <td>0</td>\n    </tr>\n    <tr>\n      <th>1</th>\n      <td>220094822</td>\n      <td>2</td>\n      <td>BRONX</td>\n      <td>ALBERT</td>\n      <td>COLLADO</td>\n      <td>PE</td>\n      <td>2010-11-30</td>\n      <td>NaN</td>\n      <td>11250.0</td>\n      <td>212.10</td>\n      <td>0</td>\n      <td>0</td>\n      <td>0</td>\n      <td>0</td>\n    </tr>\n    <tr>\n      <th>2</th>\n      <td>421662604</td>\n      <td>1</td>\n      <td>QUEENS</td>\n      <td>YEON CHAN</td>\n      <td>LEE</td>\n      <td>PE</td>\n      <td>2018-11-08</td>\n      <td>11/14/2018</td>\n      <td>8500.0</td>\n      <td>286.80</td>\n      <td>0</td>\n      <td>0</td>\n      <td>0</td>\n      <td>0</td>\n    </tr>\n    <tr>\n      <th>3</th>\n      <td>420292481</td>\n      <td>1</td>\n      <td>QUEENS</td>\n      <td>PAUL</td>\n      <td>MARINO</td>\n      <td>PE</td>\n      <td>2010-11-30</td>\n      <td>11/30/2010</td>\n      <td>0.0</td>\n      <td>130.00</td>\n      <td>0</td>\n      <td>0</td>\n      <td>0</td>\n      <td>0</td>\n    </tr>\n    <tr>\n      <th>4</th>\n      <td>320245098</td>\n      <td>1</td>\n      <td>BROOKLYN</td>\n      <td>CHRISTOPHER</td>\n      <td>VITOLANO</td>\n      <td>PE</td>\n      <td>2010-12-01</td>\n      <td>03/04/2011</td>\n      <td>0.0</td>\n      <td>1944.00</td>\n      <td>0</td>\n      <td>0</td>\n      <td>0</td>\n      <td>243</td>\n    </tr>\n  </tbody>\n</table>\n</div>",
      "text/plain": "       Job #  Doc #   Borough Applicant's First Name Applicant's Last Name  \\\n0  420291954      1    QUEENS                 REUBEN                MILLER   \n1  220094822      2     BRONX                 ALBERT               COLLADO   \n2  421662604      1    QUEENS              YEON CHAN                   LEE   \n3  420292481      1    QUEENS                   PAUL                MARINO   \n4  320245098      1  BROOKLYN            CHRISTOPHER              VITOLANO   \n\n  Applicant Professional Title Pre- Filing Date    Approved  Initial Cost  \\\n0                           RA       2010-11-29  12/08/2010       12000.0   \n1                           PE       2010-11-30         NaN       11250.0   \n2                           PE       2018-11-08  11/14/2018        8500.0   \n3                           PE       2010-11-30  11/30/2010           0.0   \n4                           PE       2010-12-01  03/04/2011           0.0   \n\n   Total Est. Fee  Existing Zoning Sqft  Proposed Zoning Sqft  \\\n0          136.05                     0                     0   \n1          212.10                     0                     0   \n2          286.80                     0                     0   \n3          130.00                     0                     0   \n4         1944.00                     0                     0   \n\n   Enlargement SQ Footage  Street Frontage  \n0                       0                0  \n1                       0                0  \n2                       0                0  \n3                       0                0  \n4                       0              243  "
     },
     "execution_count": 11,
     "metadata": {},
     "output_type": "execute_result"
    }
   ],
   "source": [
    "# code here!\n",
    "data.head()"
   ]
  },
  {
   "cell_type": "code",
   "execution_count": 10,
   "metadata": {},
   "outputs": [
    {
     "data": {
      "text/html": [
       "<div>\n",
       "<style scoped>\n",
       "    .dataframe tbody tr th:only-of-type {\n",
       "        vertical-align: middle;\n",
       "    }\n",
       "\n",
       "    .dataframe tbody tr th {\n",
       "        vertical-align: top;\n",
       "    }\n",
       "\n",
       "    .dataframe thead th {\n",
       "        text-align: right;\n",
       "    }\n",
       "</style>\n",
       "<table border=\"1\" class=\"dataframe\">\n",
       "  <thead>\n",
       "    <tr style=\"text-align: right;\">\n",
       "      <th></th>\n",
       "      <th>Job #</th>\n",
       "      <th>Doc #</th>\n",
       "      <th>Borough</th>\n",
       "      <th>Applicant's First Name</th>\n",
       "      <th>Applicant's Last Name</th>\n",
       "      <th>Applicant Professional Title</th>\n",
       "      <th>Pre- Filing Date</th>\n",
       "      <th>Approved</th>\n",
       "      <th>Initial Cost</th>\n",
       "      <th>Total Est. Fee</th>\n",
       "      <th>Existing Zoning Sqft</th>\n",
       "      <th>Proposed Zoning Sqft</th>\n",
       "      <th>Enlargement SQ Footage</th>\n",
       "      <th>Street Frontage</th>\n",
       "    </tr>\n",
       "  </thead>\n",
       "  <tbody>\n",
       "    <tr>\n",
       "      <th>0</th>\n",
       "      <td>420291954</td>\n",
       "      <td>1</td>\n",
       "      <td>QUEENS</td>\n",
       "      <td>REUBEN</td>\n",
       "      <td>MILLER</td>\n",
       "      <td>RA</td>\n",
       "      <td>2010-11-29</td>\n",
       "      <td>2010-12-08</td>\n",
       "      <td>12000.0</td>\n",
       "      <td>136.05</td>\n",
       "      <td>0</td>\n",
       "      <td>0</td>\n",
       "      <td>0</td>\n",
       "      <td>0</td>\n",
       "    </tr>\n",
       "    <tr>\n",
       "      <th>1</th>\n",
       "      <td>220094822</td>\n",
       "      <td>2</td>\n",
       "      <td>BRONX</td>\n",
       "      <td>ALBERT</td>\n",
       "      <td>COLLADO</td>\n",
       "      <td>PE</td>\n",
       "      <td>2010-11-30</td>\n",
       "      <td>NaT</td>\n",
       "      <td>11250.0</td>\n",
       "      <td>212.10</td>\n",
       "      <td>0</td>\n",
       "      <td>0</td>\n",
       "      <td>0</td>\n",
       "      <td>0</td>\n",
       "    </tr>\n",
       "    <tr>\n",
       "      <th>2</th>\n",
       "      <td>421662604</td>\n",
       "      <td>1</td>\n",
       "      <td>QUEENS</td>\n",
       "      <td>YEON CHAN</td>\n",
       "      <td>LEE</td>\n",
       "      <td>PE</td>\n",
       "      <td>2018-11-08</td>\n",
       "      <td>2018-11-14</td>\n",
       "      <td>8500.0</td>\n",
       "      <td>286.80</td>\n",
       "      <td>0</td>\n",
       "      <td>0</td>\n",
       "      <td>0</td>\n",
       "      <td>0</td>\n",
       "    </tr>\n",
       "    <tr>\n",
       "      <th>3</th>\n",
       "      <td>420292481</td>\n",
       "      <td>1</td>\n",
       "      <td>QUEENS</td>\n",
       "      <td>PAUL</td>\n",
       "      <td>MARINO</td>\n",
       "      <td>PE</td>\n",
       "      <td>2010-11-30</td>\n",
       "      <td>2010-11-30</td>\n",
       "      <td>0.0</td>\n",
       "      <td>130.00</td>\n",
       "      <td>0</td>\n",
       "      <td>0</td>\n",
       "      <td>0</td>\n",
       "      <td>0</td>\n",
       "    </tr>\n",
       "    <tr>\n",
       "      <th>4</th>\n",
       "      <td>320245098</td>\n",
       "      <td>1</td>\n",
       "      <td>BROOKLYN</td>\n",
       "      <td>CHRISTOPHER</td>\n",
       "      <td>VITOLANO</td>\n",
       "      <td>PE</td>\n",
       "      <td>2010-12-01</td>\n",
       "      <td>2011-03-04</td>\n",
       "      <td>0.0</td>\n",
       "      <td>1944.00</td>\n",
       "      <td>0</td>\n",
       "      <td>0</td>\n",
       "      <td>0</td>\n",
       "      <td>243</td>\n",
       "    </tr>\n",
       "  </tbody>\n",
       "</table>\n",
       "</div>"
      ],
      "text/plain": [
       "       Job #  Doc #   Borough Applicant's First Name Applicant's Last Name  \\\n",
       "0  420291954      1    QUEENS                 REUBEN                MILLER   \n",
       "1  220094822      2     BRONX                 ALBERT               COLLADO   \n",
       "2  421662604      1    QUEENS              YEON CHAN                   LEE   \n",
       "3  420292481      1    QUEENS                   PAUL                MARINO   \n",
       "4  320245098      1  BROOKLYN            CHRISTOPHER              VITOLANO   \n",
       "\n",
       "  Applicant Professional Title Pre- Filing Date   Approved  Initial Cost  \\\n",
       "0                           RA       2010-11-29 2010-12-08       12000.0   \n",
       "1                           PE       2010-11-30        NaT       11250.0   \n",
       "2                           PE       2018-11-08 2018-11-14        8500.0   \n",
       "3                           PE       2010-11-30 2010-11-30           0.0   \n",
       "4                           PE       2010-12-01 2011-03-04           0.0   \n",
       "\n",
       "   Total Est. Fee  Existing Zoning Sqft  Proposed Zoning Sqft  \\\n",
       "0          136.05                     0                     0   \n",
       "1          212.10                     0                     0   \n",
       "2          286.80                     0                     0   \n",
       "3          130.00                     0                     0   \n",
       "4         1944.00                     0                     0   \n",
       "\n",
       "   Enlargement SQ Footage  Street Frontage  \n",
       "0                       0                0  \n",
       "1                       0                0  \n",
       "2                       0                0  \n",
       "3                       0                0  \n",
       "4                       0              243  "
      ]
     },
     "execution_count": 10,
     "metadata": {},
     "output_type": "execute_result"
    }
   ],
   "source": []
  },
  {
   "cell_type": "code",
   "execution_count": 12,
   "metadata": {},
   "outputs": [
    {
     "name": "stdout",
     "output_type": "stream",
     "text": "<class 'pandas.core.frame.DataFrame'>\nRangeIndex: 13810 entries, 0 to 13809\nData columns (total 14 columns):\n #   Column                        Non-Null Count  Dtype         \n---  ------                        --------------  -----         \n 0   Job #                         13810 non-null  int64         \n 1   Doc #                         13810 non-null  int64         \n 2   Borough                       13810 non-null  category      \n 3   Applicant's First Name        13810 non-null  object        \n 4   Applicant's Last Name         13810 non-null  object        \n 5   Applicant Professional Title  13809 non-null  object        \n 6   Pre- Filing Date              13810 non-null  datetime64[ns]\n 7   Approved                      11267 non-null  object        \n 8   Initial Cost                  13810 non-null  float64       \n 9   Total Est. Fee                13810 non-null  float64       \n 10  Existing Zoning Sqft          13810 non-null  int64         \n 11  Proposed Zoning Sqft          13810 non-null  int64         \n 12  Enlargement SQ Footage        13810 non-null  int64         \n 13  Street Frontage               13810 non-null  int64         \ndtypes: category(1), datetime64[ns](1), float64(2), int64(6), object(4)\nmemory usage: 1.4+ MB\n"
    }
   ],
   "source": [
    "# code here!\n",
    "data.info()"
   ]
  },
  {
   "cell_type": "code",
   "execution_count": 11,
   "metadata": {},
   "outputs": [
    {
     "name": "stdout",
     "output_type": "stream",
     "text": [
      "<class 'pandas.core.frame.DataFrame'>\n",
      "RangeIndex: 13810 entries, 0 to 13809\n",
      "Data columns (total 14 columns):\n",
      "Job #                           13810 non-null int64\n",
      "Doc #                           13810 non-null int64\n",
      "Borough                         13810 non-null category\n",
      "Applicant's First Name          13810 non-null object\n",
      "Applicant's Last Name           13810 non-null object\n",
      "Applicant Professional Title    13809 non-null object\n",
      "Pre- Filing Date                13810 non-null datetime64[ns]\n",
      "Approved                        11267 non-null datetime64[ns]\n",
      "Initial Cost                    13810 non-null float64\n",
      "Total Est. Fee                  13810 non-null float64\n",
      "Existing Zoning Sqft            13810 non-null int64\n",
      "Proposed Zoning Sqft            13810 non-null int64\n",
      "Enlargement SQ Footage          13810 non-null int64\n",
      "Street Frontage                 13810 non-null int64\n",
      "dtypes: category(1), datetime64[ns](2), float64(2), int64(6), object(3)\n",
      "memory usage: 1.4+ MB\n"
     ]
    }
   ],
   "source": []
  },
  {
   "cell_type": "code",
   "execution_count": 13,
   "metadata": {},
   "outputs": [
    {
     "data": {
      "text/html": "<div>\n<style scoped>\n    .dataframe tbody tr th:only-of-type {\n        vertical-align: middle;\n    }\n\n    .dataframe tbody tr th {\n        vertical-align: top;\n    }\n\n    .dataframe thead th {\n        text-align: right;\n    }\n</style>\n<table border=\"1\" class=\"dataframe\">\n  <thead>\n    <tr style=\"text-align: right;\">\n      <th></th>\n      <th>Job #</th>\n      <th>Doc #</th>\n      <th>Initial Cost</th>\n      <th>Total Est. Fee</th>\n      <th>Existing Zoning Sqft</th>\n      <th>Proposed Zoning Sqft</th>\n      <th>Enlargement SQ Footage</th>\n      <th>Street Frontage</th>\n    </tr>\n  </thead>\n  <tbody>\n    <tr>\n      <th>count</th>\n      <td>1.381000e+04</td>\n      <td>13810.000000</td>\n      <td>1.381000e+04</td>\n      <td>13810.000000</td>\n      <td>1.381000e+04</td>\n      <td>1.381000e+04</td>\n      <td>13810.000000</td>\n      <td>13810.000000</td>\n    </tr>\n    <tr>\n      <th>mean</th>\n      <td>2.509774e+08</td>\n      <td>1.148371</td>\n      <td>1.004210e+05</td>\n      <td>1246.855547</td>\n      <td>1.341891e+03</td>\n      <td>2.294220e+03</td>\n      <td>48.200434</td>\n      <td>4.053440</td>\n    </tr>\n    <tr>\n      <th>std</th>\n      <td>1.358115e+08</td>\n      <td>0.501644</td>\n      <td>7.756349e+05</td>\n      <td>8058.790275</td>\n      <td>4.504786e+04</td>\n      <td>5.726133e+04</td>\n      <td>508.286599</td>\n      <td>27.759045</td>\n    </tr>\n    <tr>\n      <th>min</th>\n      <td>1.020206e+08</td>\n      <td>1.000000</td>\n      <td>0.000000e+00</td>\n      <td>0.000000</td>\n      <td>0.000000e+00</td>\n      <td>0.000000e+00</td>\n      <td>0.000000</td>\n      <td>0.000000</td>\n    </tr>\n    <tr>\n      <th>25%</th>\n      <td>1.209957e+08</td>\n      <td>1.000000</td>\n      <td>0.000000e+00</td>\n      <td>169.000000</td>\n      <td>0.000000e+00</td>\n      <td>0.000000e+00</td>\n      <td>0.000000</td>\n      <td>0.000000</td>\n    </tr>\n    <tr>\n      <th>50%</th>\n      <td>2.205195e+08</td>\n      <td>1.000000</td>\n      <td>1.200000e+04</td>\n      <td>316.500000</td>\n      <td>0.000000e+00</td>\n      <td>0.000000e+00</td>\n      <td>0.000000</td>\n      <td>0.000000</td>\n    </tr>\n    <tr>\n      <th>75%</th>\n      <td>4.011669e+08</td>\n      <td>1.000000</td>\n      <td>5.000000e+04</td>\n      <td>728.500000</td>\n      <td>0.000000e+00</td>\n      <td>0.000000e+00</td>\n      <td>0.000000</td>\n      <td>0.000000</td>\n    </tr>\n    <tr>\n      <th>max</th>\n      <td>5.401627e+08</td>\n      <td>9.000000</td>\n      <td>7.022720e+07</td>\n      <td>723436.900000</td>\n      <td>3.583167e+06</td>\n      <td>3.583167e+06</td>\n      <td>24047.000000</td>\n      <td>791.000000</td>\n    </tr>\n  </tbody>\n</table>\n</div>",
      "text/plain": "              Job #         Doc #  Initial Cost  Total Est. Fee  \\\ncount  1.381000e+04  13810.000000  1.381000e+04    13810.000000   \nmean   2.509774e+08      1.148371  1.004210e+05     1246.855547   \nstd    1.358115e+08      0.501644  7.756349e+05     8058.790275   \nmin    1.020206e+08      1.000000  0.000000e+00        0.000000   \n25%    1.209957e+08      1.000000  0.000000e+00      169.000000   \n50%    2.205195e+08      1.000000  1.200000e+04      316.500000   \n75%    4.011669e+08      1.000000  5.000000e+04      728.500000   \nmax    5.401627e+08      9.000000  7.022720e+07   723436.900000   \n\n       Existing Zoning Sqft  Proposed Zoning Sqft  Enlargement SQ Footage  \\\ncount          1.381000e+04          1.381000e+04            13810.000000   \nmean           1.341891e+03          2.294220e+03               48.200434   \nstd            4.504786e+04          5.726133e+04              508.286599   \nmin            0.000000e+00          0.000000e+00                0.000000   \n25%            0.000000e+00          0.000000e+00                0.000000   \n50%            0.000000e+00          0.000000e+00                0.000000   \n75%            0.000000e+00          0.000000e+00                0.000000   \nmax            3.583167e+06          3.583167e+06            24047.000000   \n\n       Street Frontage  \ncount     13810.000000  \nmean          4.053440  \nstd          27.759045  \nmin           0.000000  \n25%           0.000000  \n50%           0.000000  \n75%           0.000000  \nmax         791.000000  "
     },
     "execution_count": 13,
     "metadata": {},
     "output_type": "execute_result"
    }
   ],
   "source": [
    "# code here!\n",
    "data.describe()"
   ]
  },
  {
   "cell_type": "code",
   "execution_count": 12,
   "metadata": {},
   "outputs": [
    {
     "data": {
      "text/html": [
       "<div>\n",
       "<style scoped>\n",
       "    .dataframe tbody tr th:only-of-type {\n",
       "        vertical-align: middle;\n",
       "    }\n",
       "\n",
       "    .dataframe tbody tr th {\n",
       "        vertical-align: top;\n",
       "    }\n",
       "\n",
       "    .dataframe thead th {\n",
       "        text-align: right;\n",
       "    }\n",
       "</style>\n",
       "<table border=\"1\" class=\"dataframe\">\n",
       "  <thead>\n",
       "    <tr style=\"text-align: right;\">\n",
       "      <th></th>\n",
       "      <th>Job #</th>\n",
       "      <th>Doc #</th>\n",
       "      <th>Initial Cost</th>\n",
       "      <th>Total Est. Fee</th>\n",
       "      <th>Existing Zoning Sqft</th>\n",
       "      <th>Proposed Zoning Sqft</th>\n",
       "      <th>Enlargement SQ Footage</th>\n",
       "      <th>Street Frontage</th>\n",
       "    </tr>\n",
       "  </thead>\n",
       "  <tbody>\n",
       "    <tr>\n",
       "      <th>count</th>\n",
       "      <td>1.381000e+04</td>\n",
       "      <td>13810.000000</td>\n",
       "      <td>1.381000e+04</td>\n",
       "      <td>13810.000000</td>\n",
       "      <td>1.381000e+04</td>\n",
       "      <td>1.381000e+04</td>\n",
       "      <td>13810.000000</td>\n",
       "      <td>13810.000000</td>\n",
       "    </tr>\n",
       "    <tr>\n",
       "      <th>mean</th>\n",
       "      <td>2.509774e+08</td>\n",
       "      <td>1.148371</td>\n",
       "      <td>1.004210e+05</td>\n",
       "      <td>1246.855547</td>\n",
       "      <td>1.341891e+03</td>\n",
       "      <td>2.294220e+03</td>\n",
       "      <td>48.200434</td>\n",
       "      <td>4.053440</td>\n",
       "    </tr>\n",
       "    <tr>\n",
       "      <th>std</th>\n",
       "      <td>1.358115e+08</td>\n",
       "      <td>0.501644</td>\n",
       "      <td>7.756349e+05</td>\n",
       "      <td>8058.790275</td>\n",
       "      <td>4.504786e+04</td>\n",
       "      <td>5.726133e+04</td>\n",
       "      <td>508.286599</td>\n",
       "      <td>27.759045</td>\n",
       "    </tr>\n",
       "    <tr>\n",
       "      <th>min</th>\n",
       "      <td>1.020206e+08</td>\n",
       "      <td>1.000000</td>\n",
       "      <td>0.000000e+00</td>\n",
       "      <td>0.000000</td>\n",
       "      <td>0.000000e+00</td>\n",
       "      <td>0.000000e+00</td>\n",
       "      <td>0.000000</td>\n",
       "      <td>0.000000</td>\n",
       "    </tr>\n",
       "    <tr>\n",
       "      <th>25%</th>\n",
       "      <td>1.209957e+08</td>\n",
       "      <td>1.000000</td>\n",
       "      <td>0.000000e+00</td>\n",
       "      <td>169.000000</td>\n",
       "      <td>0.000000e+00</td>\n",
       "      <td>0.000000e+00</td>\n",
       "      <td>0.000000</td>\n",
       "      <td>0.000000</td>\n",
       "    </tr>\n",
       "    <tr>\n",
       "      <th>50%</th>\n",
       "      <td>2.205195e+08</td>\n",
       "      <td>1.000000</td>\n",
       "      <td>1.200000e+04</td>\n",
       "      <td>316.500000</td>\n",
       "      <td>0.000000e+00</td>\n",
       "      <td>0.000000e+00</td>\n",
       "      <td>0.000000</td>\n",
       "      <td>0.000000</td>\n",
       "    </tr>\n",
       "    <tr>\n",
       "      <th>75%</th>\n",
       "      <td>4.011669e+08</td>\n",
       "      <td>1.000000</td>\n",
       "      <td>5.000000e+04</td>\n",
       "      <td>728.500000</td>\n",
       "      <td>0.000000e+00</td>\n",
       "      <td>0.000000e+00</td>\n",
       "      <td>0.000000</td>\n",
       "      <td>0.000000</td>\n",
       "    </tr>\n",
       "    <tr>\n",
       "      <th>max</th>\n",
       "      <td>5.401627e+08</td>\n",
       "      <td>9.000000</td>\n",
       "      <td>7.022720e+07</td>\n",
       "      <td>723436.900000</td>\n",
       "      <td>3.583167e+06</td>\n",
       "      <td>3.583167e+06</td>\n",
       "      <td>24047.000000</td>\n",
       "      <td>791.000000</td>\n",
       "    </tr>\n",
       "  </tbody>\n",
       "</table>\n",
       "</div>"
      ],
      "text/plain": [
       "              Job #         Doc #  Initial Cost  Total Est. Fee  \\\n",
       "count  1.381000e+04  13810.000000  1.381000e+04    13810.000000   \n",
       "mean   2.509774e+08      1.148371  1.004210e+05     1246.855547   \n",
       "std    1.358115e+08      0.501644  7.756349e+05     8058.790275   \n",
       "min    1.020206e+08      1.000000  0.000000e+00        0.000000   \n",
       "25%    1.209957e+08      1.000000  0.000000e+00      169.000000   \n",
       "50%    2.205195e+08      1.000000  1.200000e+04      316.500000   \n",
       "75%    4.011669e+08      1.000000  5.000000e+04      728.500000   \n",
       "max    5.401627e+08      9.000000  7.022720e+07   723436.900000   \n",
       "\n",
       "       Existing Zoning Sqft  Proposed Zoning Sqft  Enlargement SQ Footage  \\\n",
       "count          1.381000e+04          1.381000e+04            13810.000000   \n",
       "mean           1.341891e+03          2.294220e+03               48.200434   \n",
       "std            4.504786e+04          5.726133e+04              508.286599   \n",
       "min            0.000000e+00          0.000000e+00                0.000000   \n",
       "25%            0.000000e+00          0.000000e+00                0.000000   \n",
       "50%            0.000000e+00          0.000000e+00                0.000000   \n",
       "75%            0.000000e+00          0.000000e+00                0.000000   \n",
       "max            3.583167e+06          3.583167e+06            24047.000000   \n",
       "\n",
       "       Street Frontage  \n",
       "count     13810.000000  \n",
       "mean          4.053440  \n",
       "std          27.759045  \n",
       "min           0.000000  \n",
       "25%           0.000000  \n",
       "50%           0.000000  \n",
       "75%           0.000000  \n",
       "max         791.000000  "
      ]
     },
     "execution_count": 12,
     "metadata": {},
     "output_type": "execute_result"
    }
   ],
   "source": []
  },
  {
   "cell_type": "markdown",
   "metadata": {},
   "source": [
    "### 8. Check the data that have missing value on Applicant Professional Title column"
   ]
  },
  {
   "cell_type": "code",
   "execution_count": 14,
   "metadata": {},
   "outputs": [
    {
     "data": {
      "text/html": "<div>\n<style scoped>\n    .dataframe tbody tr th:only-of-type {\n        vertical-align: middle;\n    }\n\n    .dataframe tbody tr th {\n        vertical-align: top;\n    }\n\n    .dataframe thead th {\n        text-align: right;\n    }\n</style>\n<table border=\"1\" class=\"dataframe\">\n  <thead>\n    <tr style=\"text-align: right;\">\n      <th></th>\n      <th>Job #</th>\n      <th>Doc #</th>\n      <th>Borough</th>\n      <th>Applicant's First Name</th>\n      <th>Applicant's Last Name</th>\n      <th>Applicant Professional Title</th>\n      <th>Pre- Filing Date</th>\n      <th>Approved</th>\n      <th>Initial Cost</th>\n      <th>Total Est. Fee</th>\n      <th>Existing Zoning Sqft</th>\n      <th>Proposed Zoning Sqft</th>\n      <th>Enlargement SQ Footage</th>\n      <th>Street Frontage</th>\n    </tr>\n  </thead>\n  <tbody>\n    <tr>\n      <th>8644</th>\n      <td>102689011</td>\n      <td>1</td>\n      <td>MANHATTAN</td>\n      <td>CHARLES</td>\n      <td>GOPELAND</td>\n      <td>NaN</td>\n      <td>2000-07-03</td>\n      <td>NaN</td>\n      <td>44000.0</td>\n      <td>541.7</td>\n      <td>0</td>\n      <td>0</td>\n      <td>0</td>\n      <td>0</td>\n    </tr>\n  </tbody>\n</table>\n</div>",
      "text/plain": "          Job #  Doc #    Borough Applicant's First Name  \\\n8644  102689011      1  MANHATTAN                CHARLES   \n\n     Applicant's Last Name Applicant Professional Title Pre- Filing Date  \\\n8644              GOPELAND                          NaN       2000-07-03   \n\n     Approved  Initial Cost  Total Est. Fee  Existing Zoning Sqft  \\\n8644      NaN       44000.0           541.7                     0   \n\n      Proposed Zoning Sqft  Enlargement SQ Footage  Street Frontage  \n8644                     0                       0                0  "
     },
     "execution_count": 14,
     "metadata": {},
     "output_type": "execute_result"
    }
   ],
   "source": [
    "# code here!\n",
    "data[data[\"Applicant Professional Title\"].isnull()]"
   ]
  },
  {
   "cell_type": "code",
   "execution_count": 13,
   "metadata": {},
   "outputs": [
    {
     "data": {
      "text/html": [
       "<div>\n",
       "<style scoped>\n",
       "    .dataframe tbody tr th:only-of-type {\n",
       "        vertical-align: middle;\n",
       "    }\n",
       "\n",
       "    .dataframe tbody tr th {\n",
       "        vertical-align: top;\n",
       "    }\n",
       "\n",
       "    .dataframe thead th {\n",
       "        text-align: right;\n",
       "    }\n",
       "</style>\n",
       "<table border=\"1\" class=\"dataframe\">\n",
       "  <thead>\n",
       "    <tr style=\"text-align: right;\">\n",
       "      <th></th>\n",
       "      <th>Job #</th>\n",
       "      <th>Doc #</th>\n",
       "      <th>Borough</th>\n",
       "      <th>Applicant's First Name</th>\n",
       "      <th>Applicant's Last Name</th>\n",
       "      <th>Applicant Professional Title</th>\n",
       "      <th>Pre- Filing Date</th>\n",
       "      <th>Approved</th>\n",
       "      <th>Initial Cost</th>\n",
       "      <th>Total Est. Fee</th>\n",
       "      <th>Existing Zoning Sqft</th>\n",
       "      <th>Proposed Zoning Sqft</th>\n",
       "      <th>Enlargement SQ Footage</th>\n",
       "      <th>Street Frontage</th>\n",
       "    </tr>\n",
       "  </thead>\n",
       "  <tbody>\n",
       "    <tr>\n",
       "      <th>8644</th>\n",
       "      <td>102689011</td>\n",
       "      <td>1</td>\n",
       "      <td>MANHATTAN</td>\n",
       "      <td>CHARLES</td>\n",
       "      <td>GOPELAND</td>\n",
       "      <td>NaN</td>\n",
       "      <td>2000-07-03</td>\n",
       "      <td>NaT</td>\n",
       "      <td>44000.0</td>\n",
       "      <td>541.7</td>\n",
       "      <td>0</td>\n",
       "      <td>0</td>\n",
       "      <td>0</td>\n",
       "      <td>0</td>\n",
       "    </tr>\n",
       "  </tbody>\n",
       "</table>\n",
       "</div>"
      ],
      "text/plain": [
       "          Job #  Doc #    Borough Applicant's First Name  \\\n",
       "8644  102689011      1  MANHATTAN                CHARLES   \n",
       "\n",
       "     Applicant's Last Name Applicant Professional Title Pre- Filing Date  \\\n",
       "8644              GOPELAND                          NaN       2000-07-03   \n",
       "\n",
       "     Approved  Initial Cost  Total Est. Fee  Existing Zoning Sqft  \\\n",
       "8644      NaT       44000.0           541.7                     0   \n",
       "\n",
       "      Proposed Zoning Sqft  Enlargement SQ Footage  Street Frontage  \n",
       "8644                     0                       0                0  "
      ]
     },
     "execution_count": 13,
     "metadata": {},
     "output_type": "execute_result"
    }
   ],
   "source": []
  },
  {
   "cell_type": "markdown",
   "metadata": {},
   "source": [
    "### 9. Show The Oldest and The Newest Pre- Filing Date"
   ]
  },
  {
   "cell_type": "code",
   "execution_count": 15,
   "metadata": {},
   "outputs": [
    {
     "name": "stdout",
     "output_type": "stream",
     "text": "The Oldest Pre- Filing Date :  2000-01-03 00:00:00\nThe Newest Pre- Filing Date :  2019-04-05 00:00:00\n"
    }
   ],
   "source": [
    "# code here!\n",
    "Oldest = min(data[\"Pre- Filing Date\"])\n",
    "Newest = max(data[\"Pre- Filing Date\"])\n",
    "print(\"The Oldest Pre- Filing Date : \",Oldest)\n",
    "print(\"The Newest Pre- Filing Date : \",Newest)"
   ]
  },
  {
   "cell_type": "code",
   "execution_count": 14,
   "metadata": {},
   "outputs": [
    {
     "name": "stdout",
     "output_type": "stream",
     "text": [
      "The Oldest Pre- Filing Date : 2000-01-03 00:00:00\n",
      "The Newest Pre- Filing Date : 2019-04-05 00:00:00\n"
     ]
    }
   ],
   "source": []
  },
  {
   "cell_type": "markdown",
   "metadata": {},
   "source": [
    "### 10. Fill The missing values of Approved Columns with 1997-9-19 date, then drop all rows with missing values, and then show .info() of the dataframe again, and oldest Approved Date"
   ]
  },
  {
   "cell_type": "code",
   "execution_count": 16,
   "metadata": {},
   "outputs": [],
   "source": [
    "# code here!\n",
    "data[\"Approved\"].fillna(\"1997-09-19\",inplace=True)"
   ]
  },
  {
   "cell_type": "code",
   "execution_count": 17,
   "metadata": {},
   "outputs": [],
   "source": [
    "data[\"Approved\"] = pd.to_datetime(data[\"Approved\"])"
   ]
  },
  {
   "cell_type": "code",
   "execution_count": 18,
   "metadata": {},
   "outputs": [
    {
     "name": "stdout",
     "output_type": "stream",
     "text": "<class 'pandas.core.frame.DataFrame'>\nRangeIndex: 13810 entries, 0 to 13809\nData columns (total 14 columns):\n #   Column                        Non-Null Count  Dtype         \n---  ------                        --------------  -----         \n 0   Job #                         13810 non-null  int64         \n 1   Doc #                         13810 non-null  int64         \n 2   Borough                       13810 non-null  category      \n 3   Applicant's First Name        13810 non-null  object        \n 4   Applicant's Last Name         13810 non-null  object        \n 5   Applicant Professional Title  13809 non-null  object        \n 6   Pre- Filing Date              13810 non-null  datetime64[ns]\n 7   Approved                      13810 non-null  datetime64[ns]\n 8   Initial Cost                  13810 non-null  float64       \n 9   Total Est. Fee                13810 non-null  float64       \n 10  Existing Zoning Sqft          13810 non-null  int64         \n 11  Proposed Zoning Sqft          13810 non-null  int64         \n 12  Enlargement SQ Footage        13810 non-null  int64         \n 13  Street Frontage               13810 non-null  int64         \ndtypes: category(1), datetime64[ns](2), float64(2), int64(6), object(3)\nmemory usage: 1.4+ MB\n"
    }
   ],
   "source": [
    "data.info()"
   ]
  },
  {
   "cell_type": "code",
   "execution_count": 44,
   "metadata": {},
   "outputs": [],
   "source": [
    "# code here!\n",
    "data.dropna(how=\"all\",inplace=True)"
   ]
  },
  {
   "cell_type": "code",
   "execution_count": 35,
   "metadata": {},
   "outputs": [
    {
     "name": "stdout",
     "output_type": "stream",
     "text": "1997-09-19 00:00:00\n"
    }
   ],
   "source": [
    "minApproved = min(data[\"Approved\"])\n",
    "print(minApproved)"
   ]
  },
  {
   "cell_type": "code",
   "execution_count": 17,
   "metadata": {},
   "outputs": [
    {
     "name": "stdout",
     "output_type": "stream",
     "text": [
      "1997-09-19 00:00:00\n"
     ]
    }
   ],
   "source": [
    "min(data[\"Approved\"])"
   ]
  },
  {
   "cell_type": "code",
   "execution_count": 47,
   "metadata": {},
   "outputs": [
    {
     "data": {
      "text/plain": "Job #                           0\nDoc #                           0\nBorough                         0\nApplicant's First Name          0\nApplicant's Last Name           0\nApplicant Professional Title    0\nPre- Filing Date                0\nApproved                        0\nInitial Cost                    0\nTotal Est. Fee                  0\nExisting Zoning Sqft            0\nProposed Zoning Sqft            0\nEnlargement SQ Footage          0\nStreet Frontage                 0\ndtype: int64"
     },
     "execution_count": 47,
     "metadata": {},
     "output_type": "execute_result"
    }
   ],
   "source": [
    "data.isnull().sum()"
   ]
  },
  {
   "cell_type": "markdown",
   "metadata": {},
   "source": [
    "### 11. Set Pre- Filing Date column as index of the dataframe, sort Ascending the index, and then show the .head() and .info() of the dataframe"
   ]
  },
  {
   "cell_type": "code",
   "execution_count": 20,
   "metadata": {},
   "outputs": [
    {
     "data": {
      "text/html": "<div>\n<style scoped>\n    .dataframe tbody tr th:only-of-type {\n        vertical-align: middle;\n    }\n\n    .dataframe tbody tr th {\n        vertical-align: top;\n    }\n\n    .dataframe thead th {\n        text-align: right;\n    }\n</style>\n<table border=\"1\" class=\"dataframe\">\n  <thead>\n    <tr style=\"text-align: right;\">\n      <th></th>\n      <th>Job #</th>\n      <th>Doc #</th>\n      <th>Borough</th>\n      <th>Applicant's First Name</th>\n      <th>Applicant's Last Name</th>\n      <th>Applicant Professional Title</th>\n      <th>Approved</th>\n      <th>Initial Cost</th>\n      <th>Total Est. Fee</th>\n      <th>Existing Zoning Sqft</th>\n      <th>Proposed Zoning Sqft</th>\n      <th>Enlargement SQ Footage</th>\n      <th>Street Frontage</th>\n    </tr>\n    <tr>\n      <th>Pre- Filing Date</th>\n      <th></th>\n      <th></th>\n      <th></th>\n      <th></th>\n      <th></th>\n      <th></th>\n      <th></th>\n      <th></th>\n      <th></th>\n      <th></th>\n      <th></th>\n      <th></th>\n      <th></th>\n    </tr>\n  </thead>\n  <tbody>\n    <tr>\n      <th>2000-01-03</th>\n      <td>102861002</td>\n      <td>1</td>\n      <td>MANHATTAN</td>\n      <td>John</td>\n      <td>Averitt</td>\n      <td>RA</td>\n      <td>1997-09-19</td>\n      <td>25000.0</td>\n      <td>203.0</td>\n      <td>0</td>\n      <td>0</td>\n      <td>0</td>\n      <td>0</td>\n    </tr>\n    <tr>\n      <th>2000-01-04</th>\n      <td>300948599</td>\n      <td>2</td>\n      <td>BROOKLYN</td>\n      <td>MICHELL</td>\n      <td>ATTICK</td>\n      <td>RA</td>\n      <td>1997-09-19</td>\n      <td>0.0</td>\n      <td>130.0</td>\n      <td>0</td>\n      <td>0</td>\n      <td>0</td>\n      <td>0</td>\n    </tr>\n    <tr>\n      <th>2000-01-04</th>\n      <td>200605684</td>\n      <td>1</td>\n      <td>BRONX</td>\n      <td>ROBERT</td>\n      <td>PEROTTO</td>\n      <td>PE</td>\n      <td>2000-01-04</td>\n      <td>0.0</td>\n      <td>100.0</td>\n      <td>0</td>\n      <td>0</td>\n      <td>0</td>\n      <td>0</td>\n    </tr>\n    <tr>\n      <th>2000-01-04</th>\n      <td>500400050</td>\n      <td>1</td>\n      <td>STATEN ISLAND</td>\n      <td>PAUL</td>\n      <td>LOMBARDI</td>\n      <td>RA</td>\n      <td>2000-06-01</td>\n      <td>70000.0</td>\n      <td>809.5</td>\n      <td>0</td>\n      <td>0</td>\n      <td>0</td>\n      <td>0</td>\n    </tr>\n    <tr>\n      <th>2000-01-04</th>\n      <td>102864606</td>\n      <td>1</td>\n      <td>MANHATTAN</td>\n      <td>NEAL</td>\n      <td>RUDIKOFF</td>\n      <td>PE</td>\n      <td>2000-01-05</td>\n      <td>0.0</td>\n      <td>100.0</td>\n      <td>0</td>\n      <td>0</td>\n      <td>0</td>\n      <td>0</td>\n    </tr>\n  </tbody>\n</table>\n</div>",
      "text/plain": "                      Job #  Doc #        Borough Applicant's First Name  \\\nPre- Filing Date                                                           \n2000-01-03        102861002      1      MANHATTAN                   John   \n2000-01-04        300948599      2       BROOKLYN                MICHELL   \n2000-01-04        200605684      1          BRONX                 ROBERT   \n2000-01-04        500400050      1  STATEN ISLAND                   PAUL   \n2000-01-04        102864606      1      MANHATTAN                   NEAL   \n\n                 Applicant's Last Name Applicant Professional Title  \\\nPre- Filing Date                                                      \n2000-01-03                     Averitt                           RA   \n2000-01-04                      ATTICK                           RA   \n2000-01-04                     PEROTTO                           PE   \n2000-01-04                    LOMBARDI                           RA   \n2000-01-04                    RUDIKOFF                           PE   \n\n                   Approved  Initial Cost  Total Est. Fee  \\\nPre- Filing Date                                            \n2000-01-03       1997-09-19       25000.0           203.0   \n2000-01-04       1997-09-19           0.0           130.0   \n2000-01-04       2000-01-04           0.0           100.0   \n2000-01-04       2000-06-01       70000.0           809.5   \n2000-01-04       2000-01-05           0.0           100.0   \n\n                  Existing Zoning Sqft  Proposed Zoning Sqft  \\\nPre- Filing Date                                               \n2000-01-03                           0                     0   \n2000-01-04                           0                     0   \n2000-01-04                           0                     0   \n2000-01-04                           0                     0   \n2000-01-04                           0                     0   \n\n                  Enlargement SQ Footage  Street Frontage  \nPre- Filing Date                                           \n2000-01-03                             0                0  \n2000-01-04                             0                0  \n2000-01-04                             0                0  \n2000-01-04                             0                0  \n2000-01-04                             0                0  "
     },
     "execution_count": 20,
     "metadata": {},
     "output_type": "execute_result"
    }
   ],
   "source": [
    "# code here!\n",
    "data.set_index(\"Pre- Filing Date\").sort_values(by=\"Pre- Filing Date\").head()"
   ]
  },
  {
   "cell_type": "code",
   "execution_count": 18,
   "metadata": {},
   "outputs": [
    {
     "data": {
      "text/html": [
       "<div>\n",
       "<style scoped>\n",
       "    .dataframe tbody tr th:only-of-type {\n",
       "        vertical-align: middle;\n",
       "    }\n",
       "\n",
       "    .dataframe tbody tr th {\n",
       "        vertical-align: top;\n",
       "    }\n",
       "\n",
       "    .dataframe thead th {\n",
       "        text-align: right;\n",
       "    }\n",
       "</style>\n",
       "<table border=\"1\" class=\"dataframe\">\n",
       "  <thead>\n",
       "    <tr style=\"text-align: right;\">\n",
       "      <th></th>\n",
       "      <th>Job #</th>\n",
       "      <th>Doc #</th>\n",
       "      <th>Borough</th>\n",
       "      <th>Applicant's First Name</th>\n",
       "      <th>Applicant's Last Name</th>\n",
       "      <th>Applicant Professional Title</th>\n",
       "      <th>Approved</th>\n",
       "      <th>Initial Cost</th>\n",
       "      <th>Total Est. Fee</th>\n",
       "      <th>Existing Zoning Sqft</th>\n",
       "      <th>Proposed Zoning Sqft</th>\n",
       "      <th>Enlargement SQ Footage</th>\n",
       "      <th>Street Frontage</th>\n",
       "    </tr>\n",
       "    <tr>\n",
       "      <th>Pre- Filing Date</th>\n",
       "      <th></th>\n",
       "      <th></th>\n",
       "      <th></th>\n",
       "      <th></th>\n",
       "      <th></th>\n",
       "      <th></th>\n",
       "      <th></th>\n",
       "      <th></th>\n",
       "      <th></th>\n",
       "      <th></th>\n",
       "      <th></th>\n",
       "      <th></th>\n",
       "      <th></th>\n",
       "    </tr>\n",
       "  </thead>\n",
       "  <tbody>\n",
       "    <tr>\n",
       "      <th>2000-01-03</th>\n",
       "      <td>102861002</td>\n",
       "      <td>1</td>\n",
       "      <td>MANHATTAN</td>\n",
       "      <td>John</td>\n",
       "      <td>Averitt</td>\n",
       "      <td>RA</td>\n",
       "      <td>1997-09-19</td>\n",
       "      <td>25000.0</td>\n",
       "      <td>203.0</td>\n",
       "      <td>0</td>\n",
       "      <td>0</td>\n",
       "      <td>0</td>\n",
       "      <td>0</td>\n",
       "    </tr>\n",
       "    <tr>\n",
       "      <th>2000-01-04</th>\n",
       "      <td>102864606</td>\n",
       "      <td>1</td>\n",
       "      <td>MANHATTAN</td>\n",
       "      <td>NEAL</td>\n",
       "      <td>RUDIKOFF</td>\n",
       "      <td>PE</td>\n",
       "      <td>2000-01-05</td>\n",
       "      <td>0.0</td>\n",
       "      <td>100.0</td>\n",
       "      <td>0</td>\n",
       "      <td>0</td>\n",
       "      <td>0</td>\n",
       "      <td>0</td>\n",
       "    </tr>\n",
       "    <tr>\n",
       "      <th>2000-01-04</th>\n",
       "      <td>200605684</td>\n",
       "      <td>1</td>\n",
       "      <td>BRONX</td>\n",
       "      <td>ROBERT</td>\n",
       "      <td>PEROTTO</td>\n",
       "      <td>PE</td>\n",
       "      <td>2000-01-04</td>\n",
       "      <td>0.0</td>\n",
       "      <td>100.0</td>\n",
       "      <td>0</td>\n",
       "      <td>0</td>\n",
       "      <td>0</td>\n",
       "      <td>0</td>\n",
       "    </tr>\n",
       "    <tr>\n",
       "      <th>2000-01-04</th>\n",
       "      <td>500400050</td>\n",
       "      <td>1</td>\n",
       "      <td>STATEN ISLAND</td>\n",
       "      <td>PAUL</td>\n",
       "      <td>LOMBARDI</td>\n",
       "      <td>RA</td>\n",
       "      <td>2000-06-01</td>\n",
       "      <td>70000.0</td>\n",
       "      <td>809.5</td>\n",
       "      <td>0</td>\n",
       "      <td>0</td>\n",
       "      <td>0</td>\n",
       "      <td>0</td>\n",
       "    </tr>\n",
       "    <tr>\n",
       "      <th>2000-01-04</th>\n",
       "      <td>300948599</td>\n",
       "      <td>2</td>\n",
       "      <td>BROOKLYN</td>\n",
       "      <td>MICHELL</td>\n",
       "      <td>ATTICK</td>\n",
       "      <td>RA</td>\n",
       "      <td>1997-09-19</td>\n",
       "      <td>0.0</td>\n",
       "      <td>130.0</td>\n",
       "      <td>0</td>\n",
       "      <td>0</td>\n",
       "      <td>0</td>\n",
       "      <td>0</td>\n",
       "    </tr>\n",
       "  </tbody>\n",
       "</table>\n",
       "</div>"
      ],
      "text/plain": [
       "                      Job #  Doc #        Borough Applicant's First Name  \\\n",
       "Pre- Filing Date                                                           \n",
       "2000-01-03        102861002      1      MANHATTAN                   John   \n",
       "2000-01-04        102864606      1      MANHATTAN                   NEAL   \n",
       "2000-01-04        200605684      1          BRONX                 ROBERT   \n",
       "2000-01-04        500400050      1  STATEN ISLAND                   PAUL   \n",
       "2000-01-04        300948599      2       BROOKLYN                MICHELL   \n",
       "\n",
       "                 Applicant's Last Name Applicant Professional Title  \\\n",
       "Pre- Filing Date                                                      \n",
       "2000-01-03                     Averitt                           RA   \n",
       "2000-01-04                    RUDIKOFF                           PE   \n",
       "2000-01-04                     PEROTTO                           PE   \n",
       "2000-01-04                    LOMBARDI                           RA   \n",
       "2000-01-04                      ATTICK                           RA   \n",
       "\n",
       "                   Approved  Initial Cost  Total Est. Fee  \\\n",
       "Pre- Filing Date                                            \n",
       "2000-01-03       1997-09-19       25000.0           203.0   \n",
       "2000-01-04       2000-01-05           0.0           100.0   \n",
       "2000-01-04       2000-01-04           0.0           100.0   \n",
       "2000-01-04       2000-06-01       70000.0           809.5   \n",
       "2000-01-04       1997-09-19           0.0           130.0   \n",
       "\n",
       "                  Existing Zoning Sqft  Proposed Zoning Sqft  \\\n",
       "Pre- Filing Date                                               \n",
       "2000-01-03                           0                     0   \n",
       "2000-01-04                           0                     0   \n",
       "2000-01-04                           0                     0   \n",
       "2000-01-04                           0                     0   \n",
       "2000-01-04                           0                     0   \n",
       "\n",
       "                  Enlargement SQ Footage  Street Frontage  \n",
       "Pre- Filing Date                                           \n",
       "2000-01-03                             0                0  \n",
       "2000-01-04                             0                0  \n",
       "2000-01-04                             0                0  \n",
       "2000-01-04                             0                0  \n",
       "2000-01-04                             0                0  "
      ]
     },
     "execution_count": 18,
     "metadata": {},
     "output_type": "execute_result"
    }
   ],
   "source": []
  },
  {
   "cell_type": "code",
   "execution_count": 21,
   "metadata": {},
   "outputs": [
    {
     "name": "stdout",
     "output_type": "stream",
     "text": "<class 'pandas.core.frame.DataFrame'>\nDatetimeIndex: 13810 entries, 2010-11-29 to 2005-11-21\nData columns (total 13 columns):\n #   Column                        Non-Null Count  Dtype         \n---  ------                        --------------  -----         \n 0   Job #                         13810 non-null  int64         \n 1   Doc #                         13810 non-null  int64         \n 2   Borough                       13810 non-null  category      \n 3   Applicant's First Name        13810 non-null  object        \n 4   Applicant's Last Name         13810 non-null  object        \n 5   Applicant Professional Title  13809 non-null  object        \n 6   Approved                      13810 non-null  datetime64[ns]\n 7   Initial Cost                  13810 non-null  float64       \n 8   Total Est. Fee                13810 non-null  float64       \n 9   Existing Zoning Sqft          13810 non-null  int64         \n 10  Proposed Zoning Sqft          13810 non-null  int64         \n 11  Enlargement SQ Footage        13810 non-null  int64         \n 12  Street Frontage               13810 non-null  int64         \ndtypes: category(1), datetime64[ns](1), float64(2), int64(6), object(3)\nmemory usage: 1.4+ MB\n"
    }
   ],
   "source": [
    "# code here!\n",
    "data.set_index(\"Pre- Filing Date\").info()"
   ]
  },
  {
   "cell_type": "code",
   "execution_count": 19,
   "metadata": {},
   "outputs": [
    {
     "name": "stdout",
     "output_type": "stream",
     "text": [
      "<class 'pandas.core.frame.DataFrame'>\n",
      "DatetimeIndex: 13809 entries, 2000-01-03 to 2019-04-05\n",
      "Data columns (total 13 columns):\n",
      "Job #                           13809 non-null int64\n",
      "Doc #                           13809 non-null int64\n",
      "Borough                         13809 non-null category\n",
      "Applicant's First Name          13809 non-null object\n",
      "Applicant's Last Name           13809 non-null object\n",
      "Applicant Professional Title    13809 non-null object\n",
      "Approved                        13809 non-null datetime64[ns]\n",
      "Initial Cost                    13809 non-null float64\n",
      "Total Est. Fee                  13809 non-null float64\n",
      "Existing Zoning Sqft            13809 non-null int64\n",
      "Proposed Zoning Sqft            13809 non-null int64\n",
      "Enlargement SQ Footage          13809 non-null int64\n",
      "Street Frontage                 13809 non-null int64\n",
      "dtypes: category(1), datetime64[ns](1), float64(2), int64(6), object(3)\n",
      "memory usage: 1.4+ MB\n"
     ]
    }
   ],
   "source": []
  },
  {
   "cell_type": "markdown",
   "metadata": {},
   "source": [
    "### 12. How many data that have the Pre- Filing Date in year 2019?"
   ]
  },
  {
   "cell_type": "code",
   "execution_count": 22,
   "metadata": {},
   "outputs": [
    {
     "data": {
      "text/plain": "199"
     },
     "execution_count": 22,
     "metadata": {},
     "output_type": "execute_result"
    }
   ],
   "source": [
    "# code here!\n",
    "len(data.set_index(\"Pre- Filing Date\").loc['2019-01-01':'2019-12-31'])\n",
    "\n"
   ]
  },
  {
   "cell_type": "code",
   "execution_count": 20,
   "metadata": {},
   "outputs": [
    {
     "data": {
      "text/plain": [
       "199"
      ]
     },
     "execution_count": 20,
     "metadata": {},
     "output_type": "execute_result"
    }
   ],
   "source": []
  },
  {
   "cell_type": "markdown",
   "metadata": {},
   "source": [
    "### 13. Show data that Pre- Filing Date = 2019-04-05 (Newest Date)"
   ]
  },
  {
   "cell_type": "code",
   "execution_count": 25,
   "metadata": {},
   "outputs": [
    {
     "data": {
      "text/html": "<div>\n<style scoped>\n    .dataframe tbody tr th:only-of-type {\n        vertical-align: middle;\n    }\n\n    .dataframe tbody tr th {\n        vertical-align: top;\n    }\n\n    .dataframe thead th {\n        text-align: right;\n    }\n</style>\n<table border=\"1\" class=\"dataframe\">\n  <thead>\n    <tr style=\"text-align: right;\">\n      <th></th>\n      <th>Job #</th>\n      <th>Doc #</th>\n      <th>Borough</th>\n      <th>Applicant's First Name</th>\n      <th>Applicant's Last Name</th>\n      <th>Applicant Professional Title</th>\n      <th>Approved</th>\n      <th>Initial Cost</th>\n      <th>Total Est. Fee</th>\n      <th>Existing Zoning Sqft</th>\n      <th>Proposed Zoning Sqft</th>\n      <th>Enlargement SQ Footage</th>\n      <th>Street Frontage</th>\n    </tr>\n    <tr>\n      <th>Pre- Filing Date</th>\n      <th></th>\n      <th></th>\n      <th></th>\n      <th></th>\n      <th></th>\n      <th></th>\n      <th></th>\n      <th></th>\n      <th></th>\n      <th></th>\n      <th></th>\n      <th></th>\n      <th></th>\n    </tr>\n  </thead>\n  <tbody>\n    <tr>\n      <th>2019-04-05</th>\n      <td>123869368</td>\n      <td>1</td>\n      <td>MANHATTAN</td>\n      <td>SUSANNE</td>\n      <td>MACKIW</td>\n      <td>RA</td>\n      <td>2019-04-05</td>\n      <td>400000.0</td>\n      <td>4314.1</td>\n      <td>0</td>\n      <td>0</td>\n      <td>0</td>\n      <td>0</td>\n    </tr>\n    <tr>\n      <th>2019-04-05</th>\n      <td>420665435</td>\n      <td>2</td>\n      <td>QUEENS</td>\n      <td>BRUCE</td>\n      <td>LILKER</td>\n      <td>PE</td>\n      <td>1997-09-19</td>\n      <td>0.0</td>\n      <td>0.0</td>\n      <td>0</td>\n      <td>0</td>\n      <td>0</td>\n      <td>0</td>\n    </tr>\n    <tr>\n      <th>2019-04-05</th>\n      <td>123707391</td>\n      <td>2</td>\n      <td>MANHATTAN</td>\n      <td>IRINA</td>\n      <td>VERONA</td>\n      <td>RA</td>\n      <td>1997-09-19</td>\n      <td>1000.0</td>\n      <td>225.0</td>\n      <td>0</td>\n      <td>0</td>\n      <td>0</td>\n      <td>0</td>\n    </tr>\n  </tbody>\n</table>\n</div>",
      "text/plain": "                      Job #  Doc #    Borough Applicant's First Name  \\\nPre- Filing Date                                                       \n2019-04-05        123869368      1  MANHATTAN                SUSANNE   \n2019-04-05        420665435      2     QUEENS                  BRUCE   \n2019-04-05        123707391      2  MANHATTAN                  IRINA   \n\n                 Applicant's Last Name Applicant Professional Title  \\\nPre- Filing Date                                                      \n2019-04-05                      MACKIW                           RA   \n2019-04-05                      LILKER                           PE   \n2019-04-05                      VERONA                           RA   \n\n                   Approved  Initial Cost  Total Est. Fee  \\\nPre- Filing Date                                            \n2019-04-05       2019-04-05      400000.0          4314.1   \n2019-04-05       1997-09-19           0.0             0.0   \n2019-04-05       1997-09-19        1000.0           225.0   \n\n                  Existing Zoning Sqft  Proposed Zoning Sqft  \\\nPre- Filing Date                                               \n2019-04-05                           0                     0   \n2019-04-05                           0                     0   \n2019-04-05                           0                     0   \n\n                  Enlargement SQ Footage  Street Frontage  \nPre- Filing Date                                           \n2019-04-05                             0                0  \n2019-04-05                             0                0  \n2019-04-05                             0                0  "
     },
     "execution_count": 25,
     "metadata": {},
     "output_type": "execute_result"
    }
   ],
   "source": [
    "# code here!\n",
    "data.set_index(\"Pre- Filing Date\").loc[\"2019-04-05\"]"
   ]
  },
  {
   "cell_type": "code",
   "execution_count": 21,
   "metadata": {},
   "outputs": [
    {
     "data": {
      "text/html": [
       "<div>\n",
       "<style scoped>\n",
       "    .dataframe tbody tr th:only-of-type {\n",
       "        vertical-align: middle;\n",
       "    }\n",
       "\n",
       "    .dataframe tbody tr th {\n",
       "        vertical-align: top;\n",
       "    }\n",
       "\n",
       "    .dataframe thead th {\n",
       "        text-align: right;\n",
       "    }\n",
       "</style>\n",
       "<table border=\"1\" class=\"dataframe\">\n",
       "  <thead>\n",
       "    <tr style=\"text-align: right;\">\n",
       "      <th></th>\n",
       "      <th>Job #</th>\n",
       "      <th>Doc #</th>\n",
       "      <th>Borough</th>\n",
       "      <th>Applicant's First Name</th>\n",
       "      <th>Applicant's Last Name</th>\n",
       "      <th>Applicant Professional Title</th>\n",
       "      <th>Approved</th>\n",
       "      <th>Initial Cost</th>\n",
       "      <th>Total Est. Fee</th>\n",
       "      <th>Existing Zoning Sqft</th>\n",
       "      <th>Proposed Zoning Sqft</th>\n",
       "      <th>Enlargement SQ Footage</th>\n",
       "      <th>Street Frontage</th>\n",
       "    </tr>\n",
       "    <tr>\n",
       "      <th>Pre- Filing Date</th>\n",
       "      <th></th>\n",
       "      <th></th>\n",
       "      <th></th>\n",
       "      <th></th>\n",
       "      <th></th>\n",
       "      <th></th>\n",
       "      <th></th>\n",
       "      <th></th>\n",
       "      <th></th>\n",
       "      <th></th>\n",
       "      <th></th>\n",
       "      <th></th>\n",
       "      <th></th>\n",
       "    </tr>\n",
       "  </thead>\n",
       "  <tbody>\n",
       "    <tr>\n",
       "      <th>2019-04-05</th>\n",
       "      <td>420665435</td>\n",
       "      <td>2</td>\n",
       "      <td>QUEENS</td>\n",
       "      <td>BRUCE</td>\n",
       "      <td>LILKER</td>\n",
       "      <td>PE</td>\n",
       "      <td>1997-09-19</td>\n",
       "      <td>0.0</td>\n",
       "      <td>0.0</td>\n",
       "      <td>0</td>\n",
       "      <td>0</td>\n",
       "      <td>0</td>\n",
       "      <td>0</td>\n",
       "    </tr>\n",
       "    <tr>\n",
       "      <th>2019-04-05</th>\n",
       "      <td>123707391</td>\n",
       "      <td>2</td>\n",
       "      <td>MANHATTAN</td>\n",
       "      <td>IRINA</td>\n",
       "      <td>VERONA</td>\n",
       "      <td>RA</td>\n",
       "      <td>1997-09-19</td>\n",
       "      <td>1000.0</td>\n",
       "      <td>225.0</td>\n",
       "      <td>0</td>\n",
       "      <td>0</td>\n",
       "      <td>0</td>\n",
       "      <td>0</td>\n",
       "    </tr>\n",
       "    <tr>\n",
       "      <th>2019-04-05</th>\n",
       "      <td>123869368</td>\n",
       "      <td>1</td>\n",
       "      <td>MANHATTAN</td>\n",
       "      <td>SUSANNE</td>\n",
       "      <td>MACKIW</td>\n",
       "      <td>RA</td>\n",
       "      <td>2019-04-05</td>\n",
       "      <td>400000.0</td>\n",
       "      <td>4314.1</td>\n",
       "      <td>0</td>\n",
       "      <td>0</td>\n",
       "      <td>0</td>\n",
       "      <td>0</td>\n",
       "    </tr>\n",
       "  </tbody>\n",
       "</table>\n",
       "</div>"
      ],
      "text/plain": [
       "                      Job #  Doc #    Borough Applicant's First Name  \\\n",
       "Pre- Filing Date                                                       \n",
       "2019-04-05        420665435      2     QUEENS                  BRUCE   \n",
       "2019-04-05        123707391      2  MANHATTAN                  IRINA   \n",
       "2019-04-05        123869368      1  MANHATTAN                SUSANNE   \n",
       "\n",
       "                 Applicant's Last Name Applicant Professional Title  \\\n",
       "Pre- Filing Date                                                      \n",
       "2019-04-05                      LILKER                           PE   \n",
       "2019-04-05                      VERONA                           RA   \n",
       "2019-04-05                      MACKIW                           RA   \n",
       "\n",
       "                   Approved  Initial Cost  Total Est. Fee  \\\n",
       "Pre- Filing Date                                            \n",
       "2019-04-05       1997-09-19           0.0             0.0   \n",
       "2019-04-05       1997-09-19        1000.0           225.0   \n",
       "2019-04-05       2019-04-05      400000.0          4314.1   \n",
       "\n",
       "                  Existing Zoning Sqft  Proposed Zoning Sqft  \\\n",
       "Pre- Filing Date                                               \n",
       "2019-04-05                           0                     0   \n",
       "2019-04-05                           0                     0   \n",
       "2019-04-05                           0                     0   \n",
       "\n",
       "                  Enlargement SQ Footage  Street Frontage  \n",
       "Pre- Filing Date                                           \n",
       "2019-04-05                             0                0  \n",
       "2019-04-05                             0                0  \n",
       "2019-04-05                             0                0  "
      ]
     },
     "execution_count": 21,
     "metadata": {},
     "output_type": "execute_result"
    }
   ],
   "source": []
  },
  {
   "cell_type": "markdown",
   "metadata": {},
   "source": [
    "### 14. Show data that Pre- Filing Date from 2019-04-03 to 2019-04-05"
   ]
  },
  {
   "cell_type": "code",
   "execution_count": 27,
   "metadata": {},
   "outputs": [
    {
     "data": {
      "text/html": "<div>\n<style scoped>\n    .dataframe tbody tr th:only-of-type {\n        vertical-align: middle;\n    }\n\n    .dataframe tbody tr th {\n        vertical-align: top;\n    }\n\n    .dataframe thead th {\n        text-align: right;\n    }\n</style>\n<table border=\"1\" class=\"dataframe\">\n  <thead>\n    <tr style=\"text-align: right;\">\n      <th></th>\n      <th>Job #</th>\n      <th>Doc #</th>\n      <th>Borough</th>\n      <th>Applicant's First Name</th>\n      <th>Applicant's Last Name</th>\n      <th>Applicant Professional Title</th>\n      <th>Approved</th>\n      <th>Initial Cost</th>\n      <th>Total Est. Fee</th>\n      <th>Existing Zoning Sqft</th>\n      <th>Proposed Zoning Sqft</th>\n      <th>Enlargement SQ Footage</th>\n      <th>Street Frontage</th>\n    </tr>\n    <tr>\n      <th>Pre- Filing Date</th>\n      <th></th>\n      <th></th>\n      <th></th>\n      <th></th>\n      <th></th>\n      <th></th>\n      <th></th>\n      <th></th>\n      <th></th>\n      <th></th>\n      <th></th>\n      <th></th>\n      <th></th>\n    </tr>\n  </thead>\n  <tbody>\n    <tr>\n      <th>2019-04-03</th>\n      <td>421948469</td>\n      <td>1</td>\n      <td>QUEENS</td>\n      <td>SALVATOR</td>\n      <td>CARADONNA</td>\n      <td>PE</td>\n      <td>2019-04-03</td>\n      <td>9526.0</td>\n      <td>267.1</td>\n      <td>0</td>\n      <td>0</td>\n      <td>0</td>\n      <td>0</td>\n    </tr>\n    <tr>\n      <th>2019-04-03</th>\n      <td>123368051</td>\n      <td>1</td>\n      <td>MANHATTAN</td>\n      <td>KON HO</td>\n      <td>LEE</td>\n      <td>PE</td>\n      <td>2019-04-05</td>\n      <td>4000.0</td>\n      <td>205.3</td>\n      <td>0</td>\n      <td>0</td>\n      <td>0</td>\n      <td>0</td>\n    </tr>\n    <tr>\n      <th>2019-04-03</th>\n      <td>421668797</td>\n      <td>3</td>\n      <td>QUEENS</td>\n      <td>LOUISE</td>\n      <td>GRIGG</td>\n      <td>PE</td>\n      <td>1997-09-19</td>\n      <td>30000.0</td>\n      <td>503.1</td>\n      <td>0</td>\n      <td>0</td>\n      <td>0</td>\n      <td>0</td>\n    </tr>\n    <tr>\n      <th>2019-04-04</th>\n      <td>440541683</td>\n      <td>1</td>\n      <td>QUEENS</td>\n      <td>RUSLAN</td>\n      <td>SOLOVYEV</td>\n      <td>PE</td>\n      <td>1997-09-19</td>\n      <td>1200000.0</td>\n      <td>12554.1</td>\n      <td>0</td>\n      <td>0</td>\n      <td>0</td>\n      <td>0</td>\n    </tr>\n    <tr>\n      <th>2019-04-04</th>\n      <td>123538546</td>\n      <td>3</td>\n      <td>MANHATTAN</td>\n      <td>STEPHEN</td>\n      <td>LAMPARD</td>\n      <td>PE</td>\n      <td>1997-09-19</td>\n      <td>0.0</td>\n      <td>0.0</td>\n      <td>0</td>\n      <td>0</td>\n      <td>0</td>\n      <td>0</td>\n    </tr>\n    <tr>\n      <th>2019-04-04</th>\n      <td>123525738</td>\n      <td>3</td>\n      <td>MANHATTAN</td>\n      <td>JEFFREY</td>\n      <td>CALLOW</td>\n      <td>PE</td>\n      <td>1997-09-19</td>\n      <td>103000.0</td>\n      <td>1255.0</td>\n      <td>0</td>\n      <td>0</td>\n      <td>0</td>\n      <td>0</td>\n    </tr>\n    <tr>\n      <th>2019-04-04</th>\n      <td>123671696</td>\n      <td>1</td>\n      <td>MANHATTAN</td>\n      <td>ADRIEN</td>\n      <td>ALLRED</td>\n      <td>RA</td>\n      <td>1997-09-19</td>\n      <td>216000.0</td>\n      <td>678.6</td>\n      <td>0</td>\n      <td>0</td>\n      <td>0</td>\n      <td>0</td>\n    </tr>\n    <tr>\n      <th>2019-04-03</th>\n      <td>520362946</td>\n      <td>1</td>\n      <td>STATEN ISLAND</td>\n      <td>WILLY</td>\n      <td>YUIN</td>\n      <td>RA</td>\n      <td>2019-04-03</td>\n      <td>5000.0</td>\n      <td>170.0</td>\n      <td>1912</td>\n      <td>1912</td>\n      <td>0</td>\n      <td>0</td>\n    </tr>\n    <tr>\n      <th>2019-04-04</th>\n      <td>123835788</td>\n      <td>1</td>\n      <td>MANHATTAN</td>\n      <td>ROBERT</td>\n      <td>BATES</td>\n      <td>RA</td>\n      <td>1997-09-19</td>\n      <td>845000.0</td>\n      <td>8897.6</td>\n      <td>0</td>\n      <td>0</td>\n      <td>0</td>\n      <td>0</td>\n    </tr>\n    <tr>\n      <th>2019-04-05</th>\n      <td>123869368</td>\n      <td>1</td>\n      <td>MANHATTAN</td>\n      <td>SUSANNE</td>\n      <td>MACKIW</td>\n      <td>RA</td>\n      <td>2019-04-05</td>\n      <td>400000.0</td>\n      <td>4314.1</td>\n      <td>0</td>\n      <td>0</td>\n      <td>0</td>\n      <td>0</td>\n    </tr>\n    <tr>\n      <th>2019-04-05</th>\n      <td>420665435</td>\n      <td>2</td>\n      <td>QUEENS</td>\n      <td>BRUCE</td>\n      <td>LILKER</td>\n      <td>PE</td>\n      <td>1997-09-19</td>\n      <td>0.0</td>\n      <td>0.0</td>\n      <td>0</td>\n      <td>0</td>\n      <td>0</td>\n      <td>0</td>\n    </tr>\n    <tr>\n      <th>2019-04-05</th>\n      <td>123707391</td>\n      <td>2</td>\n      <td>MANHATTAN</td>\n      <td>IRINA</td>\n      <td>VERONA</td>\n      <td>RA</td>\n      <td>1997-09-19</td>\n      <td>1000.0</td>\n      <td>225.0</td>\n      <td>0</td>\n      <td>0</td>\n      <td>0</td>\n      <td>0</td>\n    </tr>\n  </tbody>\n</table>\n</div>",
      "text/plain": "                      Job #  Doc #        Borough Applicant's First Name  \\\nPre- Filing Date                                                           \n2019-04-03        421948469      1         QUEENS               SALVATOR   \n2019-04-03        123368051      1      MANHATTAN                 KON HO   \n2019-04-03        421668797      3         QUEENS                 LOUISE   \n2019-04-04        440541683      1         QUEENS                 RUSLAN   \n2019-04-04        123538546      3      MANHATTAN                STEPHEN   \n2019-04-04        123525738      3      MANHATTAN                JEFFREY   \n2019-04-04        123671696      1      MANHATTAN                 ADRIEN   \n2019-04-03        520362946      1  STATEN ISLAND                  WILLY   \n2019-04-04        123835788      1      MANHATTAN                 ROBERT   \n2019-04-05        123869368      1      MANHATTAN                SUSANNE   \n2019-04-05        420665435      2         QUEENS                  BRUCE   \n2019-04-05        123707391      2      MANHATTAN                  IRINA   \n\n                 Applicant's Last Name Applicant Professional Title  \\\nPre- Filing Date                                                      \n2019-04-03                   CARADONNA                           PE   \n2019-04-03                         LEE                           PE   \n2019-04-03                       GRIGG                           PE   \n2019-04-04                    SOLOVYEV                           PE   \n2019-04-04                     LAMPARD                           PE   \n2019-04-04                      CALLOW                           PE   \n2019-04-04                      ALLRED                           RA   \n2019-04-03                        YUIN                           RA   \n2019-04-04                       BATES                           RA   \n2019-04-05                      MACKIW                           RA   \n2019-04-05                      LILKER                           PE   \n2019-04-05                      VERONA                           RA   \n\n                   Approved  Initial Cost  Total Est. Fee  \\\nPre- Filing Date                                            \n2019-04-03       2019-04-03        9526.0           267.1   \n2019-04-03       2019-04-05        4000.0           205.3   \n2019-04-03       1997-09-19       30000.0           503.1   \n2019-04-04       1997-09-19     1200000.0         12554.1   \n2019-04-04       1997-09-19           0.0             0.0   \n2019-04-04       1997-09-19      103000.0          1255.0   \n2019-04-04       1997-09-19      216000.0           678.6   \n2019-04-03       2019-04-03        5000.0           170.0   \n2019-04-04       1997-09-19      845000.0          8897.6   \n2019-04-05       2019-04-05      400000.0          4314.1   \n2019-04-05       1997-09-19           0.0             0.0   \n2019-04-05       1997-09-19        1000.0           225.0   \n\n                  Existing Zoning Sqft  Proposed Zoning Sqft  \\\nPre- Filing Date                                               \n2019-04-03                           0                     0   \n2019-04-03                           0                     0   \n2019-04-03                           0                     0   \n2019-04-04                           0                     0   \n2019-04-04                           0                     0   \n2019-04-04                           0                     0   \n2019-04-04                           0                     0   \n2019-04-03                        1912                  1912   \n2019-04-04                           0                     0   \n2019-04-05                           0                     0   \n2019-04-05                           0                     0   \n2019-04-05                           0                     0   \n\n                  Enlargement SQ Footage  Street Frontage  \nPre- Filing Date                                           \n2019-04-03                             0                0  \n2019-04-03                             0                0  \n2019-04-03                             0                0  \n2019-04-04                             0                0  \n2019-04-04                             0                0  \n2019-04-04                             0                0  \n2019-04-04                             0                0  \n2019-04-03                             0                0  \n2019-04-04                             0                0  \n2019-04-05                             0                0  \n2019-04-05                             0                0  \n2019-04-05                             0                0  "
     },
     "execution_count": 27,
     "metadata": {},
     "output_type": "execute_result"
    }
   ],
   "source": [
    "# code here!\n",
    "data.set_index(\"Pre- Filing Date\").loc['2019-04-03':'2019-04-05']"
   ]
  },
  {
   "cell_type": "code",
   "execution_count": 22,
   "metadata": {},
   "outputs": [
    {
     "data": {
      "text/html": [
       "<div>\n",
       "<style scoped>\n",
       "    .dataframe tbody tr th:only-of-type {\n",
       "        vertical-align: middle;\n",
       "    }\n",
       "\n",
       "    .dataframe tbody tr th {\n",
       "        vertical-align: top;\n",
       "    }\n",
       "\n",
       "    .dataframe thead th {\n",
       "        text-align: right;\n",
       "    }\n",
       "</style>\n",
       "<table border=\"1\" class=\"dataframe\">\n",
       "  <thead>\n",
       "    <tr style=\"text-align: right;\">\n",
       "      <th></th>\n",
       "      <th>Job #</th>\n",
       "      <th>Doc #</th>\n",
       "      <th>Borough</th>\n",
       "      <th>Applicant's First Name</th>\n",
       "      <th>Applicant's Last Name</th>\n",
       "      <th>Applicant Professional Title</th>\n",
       "      <th>Approved</th>\n",
       "      <th>Initial Cost</th>\n",
       "      <th>Total Est. Fee</th>\n",
       "      <th>Existing Zoning Sqft</th>\n",
       "      <th>Proposed Zoning Sqft</th>\n",
       "      <th>Enlargement SQ Footage</th>\n",
       "      <th>Street Frontage</th>\n",
       "    </tr>\n",
       "    <tr>\n",
       "      <th>Pre- Filing Date</th>\n",
       "      <th></th>\n",
       "      <th></th>\n",
       "      <th></th>\n",
       "      <th></th>\n",
       "      <th></th>\n",
       "      <th></th>\n",
       "      <th></th>\n",
       "      <th></th>\n",
       "      <th></th>\n",
       "      <th></th>\n",
       "      <th></th>\n",
       "      <th></th>\n",
       "      <th></th>\n",
       "    </tr>\n",
       "  </thead>\n",
       "  <tbody>\n",
       "    <tr>\n",
       "      <th>2019-04-03</th>\n",
       "      <td>421668797</td>\n",
       "      <td>3</td>\n",
       "      <td>QUEENS</td>\n",
       "      <td>LOUISE</td>\n",
       "      <td>GRIGG</td>\n",
       "      <td>PE</td>\n",
       "      <td>1997-09-19</td>\n",
       "      <td>30000.0</td>\n",
       "      <td>503.1</td>\n",
       "      <td>0</td>\n",
       "      <td>0</td>\n",
       "      <td>0</td>\n",
       "      <td>0</td>\n",
       "    </tr>\n",
       "    <tr>\n",
       "      <th>2019-04-03</th>\n",
       "      <td>123368051</td>\n",
       "      <td>1</td>\n",
       "      <td>MANHATTAN</td>\n",
       "      <td>KON HO</td>\n",
       "      <td>LEE</td>\n",
       "      <td>PE</td>\n",
       "      <td>2019-04-05</td>\n",
       "      <td>4000.0</td>\n",
       "      <td>205.3</td>\n",
       "      <td>0</td>\n",
       "      <td>0</td>\n",
       "      <td>0</td>\n",
       "      <td>0</td>\n",
       "    </tr>\n",
       "    <tr>\n",
       "      <th>2019-04-03</th>\n",
       "      <td>520362946</td>\n",
       "      <td>1</td>\n",
       "      <td>STATEN ISLAND</td>\n",
       "      <td>WILLY</td>\n",
       "      <td>YUIN</td>\n",
       "      <td>RA</td>\n",
       "      <td>2019-04-03</td>\n",
       "      <td>5000.0</td>\n",
       "      <td>170.0</td>\n",
       "      <td>1912</td>\n",
       "      <td>1912</td>\n",
       "      <td>0</td>\n",
       "      <td>0</td>\n",
       "    </tr>\n",
       "    <tr>\n",
       "      <th>2019-04-03</th>\n",
       "      <td>421948469</td>\n",
       "      <td>1</td>\n",
       "      <td>QUEENS</td>\n",
       "      <td>SALVATOR</td>\n",
       "      <td>CARADONNA</td>\n",
       "      <td>PE</td>\n",
       "      <td>2019-04-03</td>\n",
       "      <td>9526.0</td>\n",
       "      <td>267.1</td>\n",
       "      <td>0</td>\n",
       "      <td>0</td>\n",
       "      <td>0</td>\n",
       "      <td>0</td>\n",
       "    </tr>\n",
       "    <tr>\n",
       "      <th>2019-04-04</th>\n",
       "      <td>123835788</td>\n",
       "      <td>1</td>\n",
       "      <td>MANHATTAN</td>\n",
       "      <td>ROBERT</td>\n",
       "      <td>BATES</td>\n",
       "      <td>RA</td>\n",
       "      <td>1997-09-19</td>\n",
       "      <td>845000.0</td>\n",
       "      <td>8897.6</td>\n",
       "      <td>0</td>\n",
       "      <td>0</td>\n",
       "      <td>0</td>\n",
       "      <td>0</td>\n",
       "    </tr>\n",
       "    <tr>\n",
       "      <th>2019-04-04</th>\n",
       "      <td>123671696</td>\n",
       "      <td>1</td>\n",
       "      <td>MANHATTAN</td>\n",
       "      <td>ADRIEN</td>\n",
       "      <td>ALLRED</td>\n",
       "      <td>RA</td>\n",
       "      <td>1997-09-19</td>\n",
       "      <td>216000.0</td>\n",
       "      <td>678.6</td>\n",
       "      <td>0</td>\n",
       "      <td>0</td>\n",
       "      <td>0</td>\n",
       "      <td>0</td>\n",
       "    </tr>\n",
       "    <tr>\n",
       "      <th>2019-04-04</th>\n",
       "      <td>123525738</td>\n",
       "      <td>3</td>\n",
       "      <td>MANHATTAN</td>\n",
       "      <td>JEFFREY</td>\n",
       "      <td>CALLOW</td>\n",
       "      <td>PE</td>\n",
       "      <td>1997-09-19</td>\n",
       "      <td>103000.0</td>\n",
       "      <td>1255.0</td>\n",
       "      <td>0</td>\n",
       "      <td>0</td>\n",
       "      <td>0</td>\n",
       "      <td>0</td>\n",
       "    </tr>\n",
       "    <tr>\n",
       "      <th>2019-04-04</th>\n",
       "      <td>123538546</td>\n",
       "      <td>3</td>\n",
       "      <td>MANHATTAN</td>\n",
       "      <td>STEPHEN</td>\n",
       "      <td>LAMPARD</td>\n",
       "      <td>PE</td>\n",
       "      <td>1997-09-19</td>\n",
       "      <td>0.0</td>\n",
       "      <td>0.0</td>\n",
       "      <td>0</td>\n",
       "      <td>0</td>\n",
       "      <td>0</td>\n",
       "      <td>0</td>\n",
       "    </tr>\n",
       "    <tr>\n",
       "      <th>2019-04-04</th>\n",
       "      <td>440541683</td>\n",
       "      <td>1</td>\n",
       "      <td>QUEENS</td>\n",
       "      <td>RUSLAN</td>\n",
       "      <td>SOLOVYEV</td>\n",
       "      <td>PE</td>\n",
       "      <td>1997-09-19</td>\n",
       "      <td>1200000.0</td>\n",
       "      <td>12554.1</td>\n",
       "      <td>0</td>\n",
       "      <td>0</td>\n",
       "      <td>0</td>\n",
       "      <td>0</td>\n",
       "    </tr>\n",
       "    <tr>\n",
       "      <th>2019-04-05</th>\n",
       "      <td>420665435</td>\n",
       "      <td>2</td>\n",
       "      <td>QUEENS</td>\n",
       "      <td>BRUCE</td>\n",
       "      <td>LILKER</td>\n",
       "      <td>PE</td>\n",
       "      <td>1997-09-19</td>\n",
       "      <td>0.0</td>\n",
       "      <td>0.0</td>\n",
       "      <td>0</td>\n",
       "      <td>0</td>\n",
       "      <td>0</td>\n",
       "      <td>0</td>\n",
       "    </tr>\n",
       "    <tr>\n",
       "      <th>2019-04-05</th>\n",
       "      <td>123707391</td>\n",
       "      <td>2</td>\n",
       "      <td>MANHATTAN</td>\n",
       "      <td>IRINA</td>\n",
       "      <td>VERONA</td>\n",
       "      <td>RA</td>\n",
       "      <td>1997-09-19</td>\n",
       "      <td>1000.0</td>\n",
       "      <td>225.0</td>\n",
       "      <td>0</td>\n",
       "      <td>0</td>\n",
       "      <td>0</td>\n",
       "      <td>0</td>\n",
       "    </tr>\n",
       "    <tr>\n",
       "      <th>2019-04-05</th>\n",
       "      <td>123869368</td>\n",
       "      <td>1</td>\n",
       "      <td>MANHATTAN</td>\n",
       "      <td>SUSANNE</td>\n",
       "      <td>MACKIW</td>\n",
       "      <td>RA</td>\n",
       "      <td>2019-04-05</td>\n",
       "      <td>400000.0</td>\n",
       "      <td>4314.1</td>\n",
       "      <td>0</td>\n",
       "      <td>0</td>\n",
       "      <td>0</td>\n",
       "      <td>0</td>\n",
       "    </tr>\n",
       "  </tbody>\n",
       "</table>\n",
       "</div>"
      ],
      "text/plain": [
       "                      Job #  Doc #        Borough Applicant's First Name  \\\n",
       "Pre- Filing Date                                                           \n",
       "2019-04-03        421668797      3         QUEENS                 LOUISE   \n",
       "2019-04-03        123368051      1      MANHATTAN                 KON HO   \n",
       "2019-04-03        520362946      1  STATEN ISLAND                  WILLY   \n",
       "2019-04-03        421948469      1         QUEENS               SALVATOR   \n",
       "2019-04-04        123835788      1      MANHATTAN                 ROBERT   \n",
       "2019-04-04        123671696      1      MANHATTAN                 ADRIEN   \n",
       "2019-04-04        123525738      3      MANHATTAN                JEFFREY   \n",
       "2019-04-04        123538546      3      MANHATTAN                STEPHEN   \n",
       "2019-04-04        440541683      1         QUEENS                 RUSLAN   \n",
       "2019-04-05        420665435      2         QUEENS                  BRUCE   \n",
       "2019-04-05        123707391      2      MANHATTAN                  IRINA   \n",
       "2019-04-05        123869368      1      MANHATTAN                SUSANNE   \n",
       "\n",
       "                 Applicant's Last Name Applicant Professional Title  \\\n",
       "Pre- Filing Date                                                      \n",
       "2019-04-03                       GRIGG                           PE   \n",
       "2019-04-03                         LEE                           PE   \n",
       "2019-04-03                        YUIN                           RA   \n",
       "2019-04-03                   CARADONNA                           PE   \n",
       "2019-04-04                       BATES                           RA   \n",
       "2019-04-04                      ALLRED                           RA   \n",
       "2019-04-04                      CALLOW                           PE   \n",
       "2019-04-04                     LAMPARD                           PE   \n",
       "2019-04-04                    SOLOVYEV                           PE   \n",
       "2019-04-05                      LILKER                           PE   \n",
       "2019-04-05                      VERONA                           RA   \n",
       "2019-04-05                      MACKIW                           RA   \n",
       "\n",
       "                   Approved  Initial Cost  Total Est. Fee  \\\n",
       "Pre- Filing Date                                            \n",
       "2019-04-03       1997-09-19       30000.0           503.1   \n",
       "2019-04-03       2019-04-05        4000.0           205.3   \n",
       "2019-04-03       2019-04-03        5000.0           170.0   \n",
       "2019-04-03       2019-04-03        9526.0           267.1   \n",
       "2019-04-04       1997-09-19      845000.0          8897.6   \n",
       "2019-04-04       1997-09-19      216000.0           678.6   \n",
       "2019-04-04       1997-09-19      103000.0          1255.0   \n",
       "2019-04-04       1997-09-19           0.0             0.0   \n",
       "2019-04-04       1997-09-19     1200000.0         12554.1   \n",
       "2019-04-05       1997-09-19           0.0             0.0   \n",
       "2019-04-05       1997-09-19        1000.0           225.0   \n",
       "2019-04-05       2019-04-05      400000.0          4314.1   \n",
       "\n",
       "                  Existing Zoning Sqft  Proposed Zoning Sqft  \\\n",
       "Pre- Filing Date                                               \n",
       "2019-04-03                           0                     0   \n",
       "2019-04-03                           0                     0   \n",
       "2019-04-03                        1912                  1912   \n",
       "2019-04-03                           0                     0   \n",
       "2019-04-04                           0                     0   \n",
       "2019-04-04                           0                     0   \n",
       "2019-04-04                           0                     0   \n",
       "2019-04-04                           0                     0   \n",
       "2019-04-04                           0                     0   \n",
       "2019-04-05                           0                     0   \n",
       "2019-04-05                           0                     0   \n",
       "2019-04-05                           0                     0   \n",
       "\n",
       "                  Enlargement SQ Footage  Street Frontage  \n",
       "Pre- Filing Date                                           \n",
       "2019-04-03                             0                0  \n",
       "2019-04-03                             0                0  \n",
       "2019-04-03                             0                0  \n",
       "2019-04-03                             0                0  \n",
       "2019-04-04                             0                0  \n",
       "2019-04-04                             0                0  \n",
       "2019-04-04                             0                0  \n",
       "2019-04-04                             0                0  \n",
       "2019-04-04                             0                0  \n",
       "2019-04-05                             0                0  \n",
       "2019-04-05                             0                0  \n",
       "2019-04-05                             0                0  "
      ]
     },
     "execution_count": 22,
     "metadata": {},
     "output_type": "execute_result"
    }
   ],
   "source": []
  },
  {
   "cell_type": "markdown",
   "metadata": {},
   "source": [
    "### 15. Save the clean dataframe to a new .csv file, name = DOB_Job_Application_Filings_CleanSample.csv with index"
   ]
  },
  {
   "cell_type": "code",
   "execution_count": 48,
   "metadata": {},
   "outputs": [],
   "source": [
    "data.to_csv(r'/Users/user/Desktop/modul 2/DOB_Job_Application_Filings_CleanSample.csv', index = True)\n"
   ]
  },
  {
   "cell_type": "code",
   "execution_count": null,
   "metadata": {},
   "outputs": [],
   "source": []
  }
 ],
 "metadata": {
  "kernelspec": {
   "display_name": "Python 3",
   "language": "python",
   "name": "python3"
  },
  "language_info": {
   "codemirror_mode": {
    "name": "ipython",
    "version": 3
   },
   "file_extension": ".py",
   "mimetype": "text/x-python",
   "name": "python",
   "nbconvert_exporter": "python",
   "pygments_lexer": "ipython3",
   "version": "3.7.3-final"
  }
 },
 "nbformat": 4,
 "nbformat_minor": 4
}